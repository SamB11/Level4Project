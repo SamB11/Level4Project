{
 "cells": [
  {
   "cell_type": "code",
   "execution_count": 1,
   "id": "1edce0d1-f02f-40ef-9565-450b2ac0ff25",
   "metadata": {},
   "outputs": [],
   "source": [
    "import torch\n",
    "import torch.nn as nn\n",
    "import torch.optim as optim\n",
    "import torch.nn.functional as F\n",
    "from torch.utils.data import Dataset, DataLoader, WeightedRandomSampler\n",
    "from torchvision import utils\n",
    "from torchvision.transforms import v2 as transforms\n",
    "from torchvision import models\n",
    "from torchvision.models import ResNet18_Weights, ResNet50_Weights\n",
    "from PIL import Image\n",
    "import pandas as pd\n",
    "import os\n",
    "from matplotlib import pyplot as plt\n",
    "import numpy as np\n",
    "from torch.utils.tensorboard import SummaryWriter\n",
    "from datetime import datetime\n",
    "from torchvision.io.image import decode_jpeg, read_file\n",
    "import matplotlib.pyplot as plt\n",
    "import torchvision.utils as vutils"
   ]
  },
  {
   "cell_type": "code",
   "execution_count": 2,
   "id": "90291430-1225-4eb2-ba29-280e3ed6597d",
   "metadata": {},
   "outputs": [
    {
     "data": {
      "text/plain": [
       "'cuda'"
      ]
     },
     "execution_count": 2,
     "metadata": {},
     "output_type": "execute_result"
    }
   ],
   "source": [
    "device = \"cuda\" if torch.cuda.is_available() else \"cpu\"\n",
    "device"
   ]
  },
  {
   "cell_type": "markdown",
   "id": "69c6a0d9-27bb-4f93-b45c-53c12c24be18",
   "metadata": {},
   "source": [
    "# Data Loaders"
   ]
  },
  {
   "cell_type": "markdown",
   "id": "6afc1163-a6ab-4e9d-8aa2-257bc8660136",
   "metadata": {},
   "source": [
    "### Dataset for Returning Image and Class"
   ]
  },
  {
   "cell_type": "code",
   "execution_count": 3,
   "id": "2dde084d-a256-4959-8458-4023fc16fabd",
   "metadata": {},
   "outputs": [],
   "source": [
    "class CustomDataset(Dataset):\n",
    "    def __init__(self, csv_file, image_dir, transform=None, binary=True):\n",
    "        self.data = pd.read_csv(csv_file)\n",
    "        self.image_dir = image_dir\n",
    "        self.transform = transform\n",
    "        self.binary = binary\n",
    "\n",
    "       # Add a 'label' column to the DataFrame\n",
    "        if self.binary:\n",
    "            self.data['label'] = self.data['real_age'].apply(lambda age: 0 if age < 25 else 1)\n",
    "            self.classes = self.data['label'].unique().tolist()\n",
    "        else:\n",
    "            self.data['label'] = self.data['real_age']\n",
    "\n",
    "    def __len__(self):\n",
    "        return len(self.data)\n",
    "\n",
    "    def __getitem__(self, idx):\n",
    "        row = self.data.iloc[idx]\n",
    "        img_path = os.path.join(self.image_dir, row['file_name'])+'_face.jpg'\n",
    "        label = row['label']\n",
    "\n",
    "        # Load image\n",
    "        #image = Image.open(img_path).convert('RGB')  # Load RGB\n",
    "        image = decode_jpeg(read_file(img_path), device=\"cpu\").to('cuda')\n",
    "        image = image.float() / image.max() # 255.0 # try normalising by max value in image\n",
    "        # Apply transformations\n",
    "        if self.transform:\n",
    "            image = self.transform(image)\n",
    "\n",
    "        return image, label"
   ]
  },
  {
   "cell_type": "markdown",
   "id": "f4a8dcea-4b80-4d6b-bedc-6752163afccb",
   "metadata": {},
   "source": [
    "### Transformations for Data Augmentation and Normalisation"
   ]
  },
  {
   "cell_type": "code",
   "execution_count": 4,
   "id": "b27f925d-4c20-4328-bcb4-fbffb42e41c4",
   "metadata": {},
   "outputs": [],
   "source": [
    "train_transforms = transforms.Compose([\n",
    "    transforms.RandomHorizontalFlip(),\n",
    "    transforms.RandomRotation(20),\n",
    "    #transforms.ColorJitter(brightness=0.2, contrast=0.2, saturation=0.2, hue=0.1),\n",
    "    transforms.RandomResizedCrop(size=(224, 224), scale=(0.8,1.0)),\n",
    "    transforms.GaussianBlur(kernel_size=3.0, sigma=(0.1, 1)),\n",
    "    transforms.Normalize(mean=[0.485, 0.456, 0.406], std=[0.229, 0.224, 0.225]),\n",
    "])\n",
    "\n",
    "val_transforms = transforms.Compose([\n",
    "    transforms.Resize((224, 224)),\n",
    "    transforms.Normalize(mean=[0.485, 0.456, 0.406], std=[0.229, 0.224, 0.225]),\n",
    "])\n",
    "\n",
    "test_transforms = transforms.Compose([\n",
    "    transforms.Resize((224, 224)),\n",
    "    transforms.Normalize(mean=[0.485, 0.456, 0.406], std=[0.229, 0.224, 0.225]),\n",
    "])"
   ]
  },
  {
   "cell_type": "markdown",
   "id": "9e582649-1f09-4da9-bd52-49c876b87f1c",
   "metadata": {},
   "source": [
    "### Create Dataset from CSV"
   ]
  },
  {
   "cell_type": "code",
   "execution_count": 5,
   "id": "575d8ff1-89dc-4420-91b9-b4aa9bab9aad",
   "metadata": {},
   "outputs": [],
   "source": [
    "train_csv = 'appa-real-release/cropped_train.csv'\n",
    "val_csv = 'appa-real-release/cropped_valid.csv'\n",
    "test_csv = 'appa-real-release/cropped_test.csv'\n",
    "\n",
    "train_dir = 'appa-real-release/cropped_train'\n",
    "val_dir = 'appa-real-release/cropped_valid'\n",
    "test_dir = 'appa-real-release/cropped_test'\n",
    "\n",
    "\n",
    "# Create datasets\n",
    "train_dataset = CustomDataset(csv_file=train_csv, image_dir=train_dir, transform=train_transforms, binary=True)\n",
    "val_dataset = CustomDataset(csv_file=val_csv, image_dir=val_dir, transform=val_transforms, binary=True)\n",
    "test_dataset = CustomDataset(csv_file=test_csv, image_dir=test_dir, transform=test_transforms, binary=True)"
   ]
  },
  {
   "cell_type": "code",
   "execution_count": 6,
   "id": "add875cc-ebd6-4097-9727-ee21e3033a99",
   "metadata": {},
   "outputs": [
    {
     "name": "stdout",
     "output_type": "stream",
     "text": [
      "Train Dataset Size: 3920\n",
      "Val Dataset Size: 1438\n",
      "Test Dataset Size: 1828\n",
      "Classes: [0, 1]. 0<25yo | 1>=25yo\n"
     ]
    }
   ],
   "source": [
    "print(f\"Train Dataset Size: {len(train_dataset)}\")\n",
    "print(f\"Val Dataset Size: {len(val_dataset)}\")\n",
    "print(f\"Test Dataset Size: {len(test_dataset)}\")\n",
    "\n",
    "print(f\"Classes: {train_dataset.classes}. 0<25yo | 1>=25yo\")\n"
   ]
  },
  {
   "cell_type": "markdown",
   "id": "4bd7dff8-0d39-4e6c-a29c-32e092b45baf",
   "metadata": {},
   "source": [
    "### Stratification"
   ]
  },
  {
   "cell_type": "code",
   "execution_count": 7,
   "id": "fd698ecd-4266-485d-8e98-09f5339a4152",
   "metadata": {},
   "outputs": [
    {
     "name": "stdout",
     "output_type": "stream",
     "text": [
      "Class counts: \n",
      "label\n",
      "1    2437\n",
      "0    1483\n",
      "Name: count, dtype: int64\n",
      "\n",
      "Class weights: \n",
      "label\n",
      "1    0.000410\n",
      "0    0.000674\n",
      "Name: count, dtype: float64\n",
      "\n",
      "Sample weights: \n",
      "0       0.000674\n",
      "1       0.000674\n",
      "2       0.000410\n",
      "3       0.000410\n",
      "4       0.000674\n",
      "          ...   \n",
      "3915    0.000410\n",
      "3916    0.000410\n",
      "3917    0.000410\n",
      "3918    0.000410\n",
      "3919    0.000674\n",
      "Name: label, Length: 3920, dtype: float64\n",
      "\n"
     ]
    }
   ],
   "source": [
    "# Compute class weights\n",
    "class_counts = train_dataset.data['label'].value_counts()\n",
    "print(f\"Class counts: \\n{class_counts}\\n\")\n",
    "class_weights = 1.0 / class_counts\n",
    "print(f\"Class weights: \\n{class_weights}\\n\")\n",
    "sample_weights = train_dataset.data['label'].map(class_weights)\n",
    "print(f\"Sample weights: \\n{sample_weights}\\n\")\n",
    "\n",
    "# Create sampler\n",
    "sampler = WeightedRandomSampler(weights=sample_weights, num_samples=len(sample_weights), replacement=True)"
   ]
  },
  {
   "cell_type": "markdown",
   "id": "3f12831e-fdce-45f9-b279-52a154d5d50d",
   "metadata": {},
   "source": [
    "### Creating Loaders"
   ]
  },
  {
   "cell_type": "code",
   "execution_count": 8,
   "id": "53cb7079-10ca-437f-b249-45743bae9e4a",
   "metadata": {},
   "outputs": [],
   "source": [
    "# Create DataLoaders\n",
    "train_loader = DataLoader(\n",
    "    train_dataset,\n",
    "    batch_size=128,\n",
    "    sampler=sampler\n",
    ")\n",
    "val_loader = DataLoader(\n",
    "    val_dataset,\n",
    "    batch_size=128,\n",
    "    shuffle=False\n",
    ")\n",
    "test_loader = DataLoader(\n",
    "    test_dataset,\n",
    "    batch_size=128,\n",
    "    shuffle=False\n",
    ")"
   ]
  },
  {
   "cell_type": "markdown",
   "id": "70f46795-0ca7-4eeb-ace2-07a1b6a315a7",
   "metadata": {},
   "source": [
    "### Display Batches"
   ]
  },
  {
   "cell_type": "code",
   "execution_count": 9,
   "id": "d9d07f1a-8bd2-4d23-9ac5-df3cf0855080",
   "metadata": {},
   "outputs": [
    {
     "name": "stdout",
     "output_type": "stream",
     "text": [
      "Images batch shape: torch.Size([128, 3, 224, 224])\n",
      "Labels batch shape: torch.Size([128])\n",
      "Image Classes: tensor([0, 1, 0, 1, 1, 1, 0, 0, 1, 1, 0, 1, 0, 0, 0, 1, 0, 0, 1, 1, 0, 0, 1, 1,\n",
      "        0, 1, 0, 1, 1, 0, 0, 1, 0, 1, 1, 1, 1, 0, 0, 1, 0, 0, 1, 0, 0, 0, 0, 1,\n",
      "        0, 0, 0, 0, 0, 1, 0, 1, 1, 0, 1, 0, 1, 1, 0, 0, 0, 1, 1, 1, 0, 0, 1, 0,\n",
      "        0, 0, 1, 1, 0, 0, 0, 1, 0, 0, 0, 1, 0, 1, 0, 0, 1, 0, 0, 1, 1, 0, 0, 1,\n",
      "        1, 1, 0, 1, 0, 0, 1, 0, 1, 1, 1, 0, 1, 1, 1, 0, 1, 1, 0, 1, 1, 1, 0, 0,\n",
      "        1, 0, 0, 0, 1, 1, 0, 0], device='cuda:0')\n",
      "Class 1 Images: 60\n",
      "Class 0 Images: 68\n"
     ]
    },
    {
     "data": {
      "image/png": "[encoded data removed]",
      "text/plain": [
       "<Figure size 640x480 with 1 Axes>"
      ]
     },
     "metadata": {},
     "output_type": "display_data"
    }
   ],
   "source": [
    "def imshow(inp, title=None):\n",
    "    \"\"\"Display image for Tensor.\"\"\"\n",
    "    inp = vutils.make_grid(inp)  \n",
    "    inp = inp.permute(1, 2, 0) \n",
    "    \n",
    "    # Convert mean and std to PyTorch tensors\n",
    "    mean = torch.tensor([0.485, 0.456, 0.406], device=inp.device)\n",
    "    std = torch.tensor([0.229, 0.224, 0.225], device=inp.device)\n",
    "    \n",
    "    # Normalize the image\n",
    "    inp = std * inp + mean\n",
    "    inp = torch.clamp(inp, 0, 1)  # Ensure values are within [0, 1]\n",
    "    \n",
    "    # Convert the tensor to a NumPy array for visualization\n",
    "    inp = inp.cpu().numpy()\n",
    "\n",
    "    plt.imshow(inp)\n",
    "    if title is not None:\n",
    "        plt.title(title)\n",
    "    plt.pause(0.001)  # pause a bit so that plots are updated\n",
    "\n",
    "# Get one batch of data\n",
    "data_iter = iter(train_loader)  \n",
    "images, labels = next(data_iter) \n",
    "images, labels = images.to(device), labels.to(device)\n",
    "\n",
    "print(f\"Images batch shape: {images.shape}\")\n",
    "print(f\"Labels batch shape: {labels.shape}\")\n",
    "print(f\"Image Classes: {labels}\")\n",
    "\n",
    "print(f\"Class 1 Images: {torch.sum(labels)}\")\n",
    "print(f\"Class 0 Images: {len(labels) - torch.sum(labels)}\")\n",
    "\n",
    "n = 8\n",
    "\n",
    "# Make a grid from batch\n",
    "out = images[:n]  # Take the first 'n' images\n",
    "\n",
    "imshow(out, title=[x.item() for x in labels[:n]])\n"
   ]
  },
  {
   "cell_type": "markdown",
   "id": "e7290991-22f9-4cd7-afb5-0990099fd112",
   "metadata": {},
   "source": [
    "# Model Training"
   ]
  },
  {
   "cell_type": "markdown",
   "id": "903d24fd-dcbc-4077-aa80-9758e87c3bb7",
   "metadata": {},
   "source": [
    "## Using Pytorch pretrained ResNet model - trained on ImageNet"
   ]
  },
  {
   "cell_type": "code",
   "execution_count": 10,
   "id": "41b979ae-97a7-4614-a0a8-76de9f95c43d",
   "metadata": {},
   "outputs": [
    {
     "name": "stdout",
     "output_type": "stream",
     "text": [
      "Number of features from pre-trained model 2048\n"
     ]
    }
   ],
   "source": [
    "model = models.resnet50(weights=ResNet50_Weights.DEFAULT)\n",
    "num_features = model.fc.in_features \n",
    "print(f\"Number of features from pre-trained model {num_features}\")\n",
    "\n",
    "# This is just for logging during training\n",
    "if num_features == 512:\n",
    "    resnet_arch = 'ResNet18'\n",
    "elif num_features ==2048:\n",
    "    resnet_arch = 'ResNet50'\n",
    "else:\n",
    "    resnet_arch = 'other'"
   ]
  },
  {
   "cell_type": "markdown",
   "id": "a020e4dd-c37f-470b-bef9-166fd7cd88f2",
   "metadata": {},
   "source": [
    "### Add a fully connected layer\n",
    "- Freeze weights for existing parameters of pretrained model\n",
    "    - These dont need retrained since we are doing transfer learning\n",
    "- Add a fully connected linear layer\n",
    "    - This maps from the output of the pretrained model (512 for ResNet-18 / 2048 for ResNet-50)\n",
    "    - To the output we want for our classifier (1 - the probability of being a certain class)\n",
    "- The weights in this layer will be trained to fit our data"
   ]
  },
  {
   "cell_type": "code",
   "execution_count": 11,
   "id": "054e0a06-52a4-46b7-a186-38ea99b7426a",
   "metadata": {},
   "outputs": [
    {
     "name": "stdout",
     "output_type": "stream",
     "text": [
      "0.conv1.weight\n",
      "0.bn1.weight\n",
      "0.bn1.bias\n",
      "0.conv2.weight\n",
      "0.bn2.weight\n",
      "0.bn2.bias\n",
      "0.conv3.weight\n",
      "0.bn3.weight\n",
      "0.bn3.bias\n",
      "0.downsample.0.weight\n",
      "0.downsample.1.weight\n",
      "0.downsample.1.bias\n",
      "1.conv1.weight\n",
      "1.bn1.weight\n",
      "1.bn1.bias\n",
      "1.conv2.weight\n",
      "1.bn2.weight\n",
      "1.bn2.bias\n",
      "1.conv3.weight\n",
      "1.bn3.weight\n",
      "1.bn3.bias\n",
      "2.conv1.weight\n",
      "2.bn1.weight\n",
      "2.bn1.bias\n",
      "2.conv2.weight\n",
      "2.bn2.weight\n",
      "2.bn2.bias\n",
      "2.conv3.weight\n",
      "2.bn3.weight\n",
      "2.bn3.bias\n",
      "\n",
      "Setup:\n",
      "fc+layer4\n",
      "ResNet50\n"
     ]
    }
   ],
   "source": [
    "train_on_l4 = True\n",
    "# Freeze the layers in the pre-trained model\n",
    "for param in model.parameters():\n",
    "    param.requires_grad = False\n",
    "    \n",
    "# Unfreeze all residual blocks in the fourth layer\n",
    "# For resnet-18 that is 2 blocks, for resnet50 that is 3 blocks\n",
    "if train_on_l4:\n",
    "    for name, param in model.layer4.named_parameters(): \n",
    "        print(name)\n",
    "        param.requires_grad = True\n",
    "        train_on_l4 = True\n",
    "    \n",
    "# Add a fully connected linear layer which transforms from 512 nodes -> 1 node\n",
    "# Note that we dont add a sigmoid activation function here because we use nn.BCEWithLogitsLoss(), which applies sigmoid while calculating loss\n",
    "model.fc = nn.Linear(num_features, 1)\n",
    "\n",
    "for param in model.fc.parameters():\n",
    "    param.requires_grad = True\n",
    "\n",
    "\n",
    "# This is just to store a string for saving the model after training\n",
    "print(\"\\nSetup:\")\n",
    "if train_on_l4:\n",
    "    train_type = 'fc+layer4'\n",
    "else:\n",
    "    train_type = 'fc'\n",
    "\n",
    "print(train_type)\n",
    "print(resnet_arch)"
   ]
  },
  {
   "cell_type": "code",
   "execution_count": 12,
   "id": "910aaa0a-fdfa-48a8-ad81-0e76aeb81cc6",
   "metadata": {},
   "outputs": [
    {
     "name": "stdout",
     "output_type": "stream",
     "text": [
      "Number of Learnable Parameters:  14966785\n"
     ]
    }
   ],
   "source": [
    "print(f\"Number of Learnable Parameters:  {sum([param.numel() for param in model.parameters() if param.requires_grad==True])}\")"
   ]
  },
  {
   "cell_type": "markdown",
   "id": "f8baf58b-05fe-4ce0-95cb-ff9a1867c356",
   "metadata": {},
   "source": [
    "### Train and Test functions"
   ]
  },
  {
   "cell_type": "code",
   "execution_count": 13,
   "id": "7631f761-134f-41fb-b300-8cad315dcaee",
   "metadata": {},
   "outputs": [],
   "source": [
    "def train(model, device, train_loader, optimizer, criterion, epoch, writer, verbose=0):\n",
    "\n",
    "    model.train()\n",
    "    epoch_loss = 0 # Keep track of total loss over this epoch\n",
    "    if verbose:\n",
    "        print('Train')\n",
    "    for batch_idx, (data, target) in enumerate(train_loader):\n",
    "\n",
    "        data, target = data.to(device), target.to(device)\n",
    "\n",
    "        optimizer.zero_grad()\n",
    "        \n",
    "        # Forward Pass\n",
    "        output = model(data)\n",
    "\n",
    "        # Compute Loss\n",
    "        # Squeeze output: (32, 1) -> (32,) to match target shape (32,)\n",
    "        # Convert target to float: Targets are integers 0,1. Loss function expects float\n",
    "        loss = criterion(output.squeeze(), target.float()) \n",
    "        if verbose:\n",
    "            print(f\"Batch {batch_idx}: Loss = {loss:.4f}\")\n",
    "        epoch_loss += loss.item()\n",
    "        \n",
    "        # Backwards pass and optimisation\n",
    "        loss.backward()\n",
    "        optimizer.step()\n",
    "        \n",
    "        if batch_idx % 10 == 0 and not verbose:\n",
    "            print('Train Epoch: {} [{}/{} ({:.0f}%)]\\tLoss: {:.6f}'.format(\n",
    "                epoch, batch_idx * len(data), len(train_loader.dataset),\n",
    "                100. * batch_idx / len(train_loader), loss.item()))\n",
    "\n",
    "    avg_loss = epoch_loss / len(train_loader)\n",
    "    if verbose:\n",
    "        print(f\"Avg loss = {epoch_loss:.4f} / {len(train_loader)} = {avg_loss:.4f}\")\n",
    "\n",
    "    writer.add_scalar('Train', epoch_loss / len(train_loader), epoch)"
   ]
  },
  {
   "cell_type": "code",
   "execution_count": 14,
   "id": "1337c5ff-c844-4d73-8116-9acb160e1686",
   "metadata": {},
   "outputs": [],
   "source": [
    "def val(model, device, val_loader, criterion, epoch, writer, verbose=0):\n",
    "    model.eval()  # Set model to evaluation mode\n",
    "    val_loss = 0\n",
    "    correct = 0\n",
    "\n",
    "    correct_output_class_0 = 0\n",
    "    correct_output_class_1 = 0\n",
    "    correct_count_class_0 = 0\n",
    "    correct_count_class_1 = 0\n",
    "\n",
    "    incorrect_output_class_0 = 0\n",
    "    incorrect_output_class_1 = 0\n",
    "    incorrect_count_class_0 = 0\n",
    "    incorrect_count_class_1 = 0\n",
    "    \n",
    "    if verbose !=0:\n",
    "        print('Val')\n",
    "    \n",
    "    with torch.no_grad():\n",
    "        for i, (data, target) in enumerate(val_loader):\n",
    "            data, target = data.to(device), target.to(device)\n",
    "            output = model(data)\n",
    "            \n",
    "            # Compute loss\n",
    "            batch_loss = criterion(output.squeeze(), target.float()).item() # calculate the loss for this batch\n",
    "            \n",
    "            if verbose == 1:\n",
    "                print(f\"Batch {i}: Loss = {batch_loss:.4f}\")\n",
    "                \n",
    "            val_loss += batch_loss # keep a sum of all the losse for this batch\n",
    "            # Apply sigmoid to logits to get probabilities\n",
    "            output = torch.sigmoid(output)\n",
    "            \n",
    "            # Get predictions by thresholding at 0.5\n",
    "            pred = (output > 0.5).float()  # Convert probabilities to 0 or 1\n",
    "            \n",
    "            # Update correct count (compare predictions to target)\n",
    "            correct += pred.eq(target.view_as(pred)).sum().item()\n",
    "\n",
    "            if verbose ==2:\n",
    "                for p, t, out in zip(pred, target, output):\n",
    "                    if p==t:\n",
    "                        if t==0:\n",
    "                            correct_output_class_0 += out.item()\n",
    "                            correct_count_class_0 += 1\n",
    "                        elif t==1:\n",
    "                            correct_output_class_1 += out.item()\n",
    "                            correct_count_class_1 += 1\n",
    "                    else:\n",
    "                        if t==0:\n",
    "                            incorrect_output_class_0 += out.item()\n",
    "                            incorrect_count_class_0 += 1\n",
    "                        elif t==1:\n",
    "                            incorrect_output_class_1 += out.item()\n",
    "                            incorrect_count_class_1 += 1\n",
    "\n",
    "    \n",
    "    if verbose == 2:\n",
    "        # Print the average confidence (output) of the model for correct classifications of each class\n",
    "        avg_correct_output_0 = (\n",
    "            correct_output_class_0 / correct_count_class_0 if correct_count_class_0 > 0 else 0\n",
    "        )\n",
    "        avg_correct_output_1 = (\n",
    "            correct_output_class_1 / correct_count_class_1 if correct_count_class_1 > 0 else 0\n",
    "        )\n",
    "        avg_incorrect_output_0 = (\n",
    "            incorrect_output_class_0 / incorrect_count_class_0 if incorrect_count_class_0 > 0 else 0\n",
    "        )\n",
    "        avg_incorrect_output_1 = (\n",
    "            incorrect_output_class_1 / incorrect_count_class_1 if incorrect_count_class_1 > 0 else 0\n",
    "        )\n",
    "        print('\\n')\n",
    "        print(f'Average output for correctly classified class 0: {avg_correct_output_0:.4f}')\n",
    "        print(f'Average output for incorrectly classified class 0: {avg_incorrect_output_0:.4f}\\n')\n",
    "        \n",
    "        print(f'Average output for correctly classified class 1: {avg_correct_output_1:.4f}')\n",
    "        print(f'Average output for incorrectly classified class 1: {avg_incorrect_output_1:.4f}\\n')\n",
    "    \n",
    "    # Average the val loss over the entire dataset\n",
    "    avg_loss = val_loss/len(val_loader)\n",
    "    \n",
    "    if verbose:\n",
    "        print(f\"Avg loss = {val_loss:.4f} / {len(val_loader)} = {avg_loss:.4f}\")\n",
    "    \n",
    "    # Print results\n",
    "    print('\\nValidation set: Average loss: {:.4f}, Accuracy: {}/{} ({:.0f}%)\\n'.format(\n",
    "        avg_loss, correct, len(val_loader.dataset),\n",
    "        100. * correct / len(val_loader.dataset)))\n",
    "    \n",
    "    writer.add_scalars('Val', {\n",
    "        'Loss': avg_loss,\n",
    "        'Accuracy': correct / len(val_loader.dataset)\n",
    "    }, epoch)\n",
    "    return val_loss"
   ]
  },
  {
   "cell_type": "code",
   "execution_count": 15,
   "id": "bd3b3b03-2e6f-45b3-8d03-324b25c7c125",
   "metadata": {},
   "outputs": [],
   "source": [
    "%reload_ext tensorboard"
   ]
  },
  {
   "cell_type": "code",
   "execution_count": 16,
   "id": "b2499e95-bab5-4664-b742-71e7fe09c527",
   "metadata": {},
   "outputs": [
    {
     "name": "stdout",
     "output_type": "stream",
     "text": [
      "Train\n",
      "Batch 0: Loss = 0.6926\n",
      "Batch 1: Loss = 0.7031\n",
      "Batch 2: Loss = 0.6935\n",
      "Batch 3: Loss = 0.6890\n",
      "Batch 4: Loss = 0.7070\n",
      "Batch 5: Loss = 0.6849\n",
      "Batch 6: Loss = 0.6781\n",
      "Batch 7: Loss = 0.6926\n",
      "Batch 8: Loss = 0.6760\n",
      "Batch 9: Loss = 0.6861\n",
      "Batch 10: Loss = 0.6937\n",
      "Batch 11: Loss = 0.6818\n",
      "Batch 12: Loss = 0.6755\n",
      "Batch 13: Loss = 0.6756\n",
      "Batch 14: Loss = 0.6921\n",
      "Batch 15: Loss = 0.6788\n",
      "Batch 16: Loss = 0.6805\n",
      "Batch 17: Loss = 0.6794\n",
      "Batch 18: Loss = 0.6709\n",
      "Batch 19: Loss = 0.6801\n",
      "Batch 20: Loss = 0.6803\n",
      "Batch 21: Loss = 0.6727\n",
      "Batch 22: Loss = 0.6678\n",
      "Batch 23: Loss = 0.6727\n",
      "Batch 24: Loss = 0.6585\n",
      "Batch 25: Loss = 0.6695\n",
      "Batch 26: Loss = 0.6803\n",
      "Batch 27: Loss = 0.6790\n",
      "Batch 28: Loss = 0.6854\n",
      "Batch 29: Loss = 0.6561\n",
      "Batch 30: Loss = 0.6571\n",
      "Avg loss = 21.0910 / 31 = 0.6804\n",
      "Val\n",
      "\n",
      "\n",
      "Average output for correctly classified class 0: 0.4612\n",
      "Average output for incorrectly classified class 0: 0.5440\n",
      "\n",
      "Average output for correctly classified class 1: 0.5729\n",
      "Average output for incorrectly classified class 1: 0.4647\n",
      "\n",
      "Avg loss = 7.7050 / 12 = 0.6421\n",
      "\n",
      "Validation set: Average loss: 0.6421, Accuracy: 951/1438 (66%)\n",
      "\n",
      "Train\n",
      "Batch 0: Loss = 0.6616\n",
      "Batch 1: Loss = 0.6819\n",
      "Batch 2: Loss = 0.6537\n",
      "Batch 3: Loss = 0.6629\n",
      "Batch 4: Loss = 0.6604\n",
      "Batch 5: Loss = 0.6558\n",
      "Batch 6: Loss = 0.6612\n",
      "Batch 7: Loss = 0.6443\n",
      "Batch 8: Loss = 0.6622\n",
      "Batch 9: Loss = 0.6657\n",
      "Batch 10: Loss = 0.6336\n",
      "Batch 11: Loss = 0.6276\n",
      "Batch 12: Loss = 0.6186\n",
      "Batch 13: Loss = 0.6543\n",
      "Batch 14: Loss = 0.6277\n",
      "Batch 15: Loss = 0.6473\n",
      "Batch 16: Loss = 0.6415\n",
      "Batch 17: Loss = 0.6571\n",
      "Batch 18: Loss = 0.6136\n",
      "Batch 19: Loss = 0.6325\n",
      "Batch 20: Loss = 0.6392\n",
      "Batch 21: Loss = 0.6407\n",
      "Batch 22: Loss = 0.5942\n",
      "Batch 23: Loss = 0.6382\n",
      "Batch 24: Loss = 0.6189\n",
      "Batch 25: Loss = 0.6186\n",
      "Batch 26: Loss = 0.5970\n",
      "Batch 27: Loss = 0.6161\n",
      "Batch 28: Loss = 0.6028\n",
      "Batch 29: Loss = 0.6345\n",
      "Batch 30: Loss = 0.6043\n",
      "Avg loss = 19.7677 / 31 = 0.6377\n",
      "Val\n",
      "\n",
      "\n",
      "Average output for correctly classified class 0: 0.3627\n",
      "Average output for incorrectly classified class 0: 0.6133\n",
      "\n",
      "Average output for correctly classified class 1: 0.7099\n",
      "Average output for incorrectly classified class 1: 0.3924\n",
      "\n",
      "Avg loss = 7.0153 / 12 = 0.5846\n",
      "\n",
      "Validation set: Average loss: 0.5846, Accuracy: 954/1438 (66%)\n",
      "\n",
      "Train\n",
      "Batch 0: Loss = 0.6055\n",
      "Batch 1: Loss = 0.6075\n",
      "Batch 2: Loss = 0.5448\n",
      "Batch 3: Loss = 0.5790\n",
      "Batch 4: Loss = 0.5837\n",
      "Batch 5: Loss = 0.5669\n",
      "Batch 6: Loss = 0.5893\n",
      "Batch 7: Loss = 0.5781\n",
      "Batch 8: Loss = 0.5823\n",
      "Batch 9: Loss = 0.5216\n",
      "Batch 10: Loss = 0.5737\n",
      "Batch 11: Loss = 0.4897\n",
      "Batch 12: Loss = 0.6006\n",
      "Batch 13: Loss = 0.5606\n",
      "Batch 14: Loss = 0.6081\n",
      "Batch 15: Loss = 0.5590\n",
      "Batch 16: Loss = 0.6221\n",
      "Batch 17: Loss = 0.5219\n",
      "Batch 18: Loss = 0.5311\n",
      "Batch 19: Loss = 0.5458\n",
      "Batch 20: Loss = 0.6081\n",
      "Batch 21: Loss = 0.5492\n",
      "Batch 22: Loss = 0.5750\n",
      "Batch 23: Loss = 0.5509\n",
      "Batch 24: Loss = 0.4997\n",
      "Batch 25: Loss = 0.5244\n",
      "Batch 26: Loss = 0.4617\n",
      "Batch 27: Loss = 0.5430\n",
      "Batch 28: Loss = 0.5677\n",
      "Batch 29: Loss = 0.4990\n",
      "Batch 30: Loss = 0.5058\n",
      "Avg loss = 17.2555 / 31 = 0.5566\n",
      "Val\n",
      "\n",
      "\n",
      "Average output for correctly classified class 0: 0.2835\n",
      "Average output for incorrectly classified class 0: 0.6246\n",
      "\n",
      "Average output for correctly classified class 1: 0.7471\n",
      "Average output for incorrectly classified class 1: 0.3508\n",
      "\n",
      "Avg loss = 6.9250 / 12 = 0.5771\n",
      "\n",
      "Validation set: Average loss: 0.5771, Accuracy: 954/1438 (66%)\n",
      "\n",
      "Train\n",
      "Batch 0: Loss = 0.4792\n",
      "Batch 1: Loss = 0.4906\n",
      "Batch 2: Loss = 0.4839\n",
      "Batch 3: Loss = 0.5248\n",
      "Batch 4: Loss = 0.5639\n",
      "Batch 5: Loss = 0.5214\n",
      "Batch 6: Loss = 0.5017\n",
      "Batch 7: Loss = 0.5238\n",
      "Batch 8: Loss = 0.5822\n",
      "Batch 9: Loss = 0.4905\n",
      "Batch 10: Loss = 0.4861\n",
      "Batch 11: Loss = 0.5847\n",
      "Batch 12: Loss = 0.5247\n",
      "Batch 13: Loss = 0.5204\n",
      "Batch 14: Loss = 0.5073\n",
      "Batch 15: Loss = 0.5338\n",
      "Batch 16: Loss = 0.5342\n",
      "Batch 17: Loss = 0.5302\n",
      "Batch 18: Loss = 0.5260\n",
      "Batch 19: Loss = 0.4578\n",
      "Batch 20: Loss = 0.5157\n",
      "Batch 21: Loss = 0.5336\n",
      "Batch 22: Loss = 0.4892\n",
      "Batch 23: Loss = 0.5308\n",
      "Batch 24: Loss = 0.5177\n",
      "Batch 25: Loss = 0.4784\n",
      "Batch 26: Loss = 0.4711\n",
      "Batch 27: Loss = 0.5002\n",
      "Batch 28: Loss = 0.5850\n",
      "Batch 29: Loss = 0.4643\n",
      "Batch 30: Loss = 0.4967\n",
      "Avg loss = 15.9498 / 31 = 0.5145\n",
      "Val\n",
      "\n",
      "\n",
      "Average output for correctly classified class 0: 0.2613\n",
      "Average output for incorrectly classified class 0: 0.6904\n",
      "\n",
      "Average output for correctly classified class 1: 0.7974\n",
      "Average output for incorrectly classified class 1: 0.3359\n",
      "\n",
      "Avg loss = 6.7186 / 12 = 0.5599\n",
      "\n",
      "Validation set: Average loss: 0.5599, Accuracy: 1004/1438 (70%)\n",
      "\n",
      "Train\n",
      "Batch 0: Loss = 0.4476\n",
      "Batch 1: Loss = 0.5655\n",
      "Batch 2: Loss = 0.4719\n",
      "Batch 3: Loss = 0.5145\n",
      "Batch 4: Loss = 0.4542\n",
      "Batch 5: Loss = 0.5170\n",
      "Batch 6: Loss = 0.4614\n",
      "Batch 7: Loss = 0.4906\n",
      "Batch 8: Loss = 0.4556\n",
      "Batch 9: Loss = 0.4488\n",
      "Batch 10: Loss = 0.4868\n",
      "Batch 11: Loss = 0.4465\n",
      "Batch 12: Loss = 0.5158\n",
      "Batch 13: Loss = 0.5248\n",
      "Batch 14: Loss = 0.4859\n",
      "Batch 15: Loss = 0.4547\n",
      "Batch 16: Loss = 0.5090\n",
      "Batch 17: Loss = 0.4865\n",
      "Batch 18: Loss = 0.4798\n",
      "Batch 19: Loss = 0.3935\n",
      "Batch 20: Loss = 0.4750\n",
      "Batch 21: Loss = 0.4608\n",
      "Batch 22: Loss = 0.4670\n",
      "Batch 23: Loss = 0.4145\n",
      "Batch 24: Loss = 0.4738\n",
      "Batch 25: Loss = 0.5502\n",
      "Batch 26: Loss = 0.4095\n",
      "Batch 27: Loss = 0.4167\n",
      "Batch 28: Loss = 0.4348\n",
      "Batch 29: Loss = 0.4434\n",
      "Batch 30: Loss = 0.4729\n",
      "Avg loss = 14.6289 / 31 = 0.4719\n",
      "Val\n",
      "\n",
      "\n",
      "Average output for correctly classified class 0: 0.2264\n",
      "Average output for incorrectly classified class 0: 0.6512\n",
      "\n",
      "Average output for correctly classified class 1: 0.7840\n",
      "Average output for incorrectly classified class 1: 0.3117\n",
      "\n",
      "Avg loss = 6.5232 / 12 = 0.5436\n",
      "\n",
      "Validation set: Average loss: 0.5436, Accuracy: 1031/1438 (72%)\n",
      "\n",
      "Train\n",
      "Batch 0: Loss = 0.4522\n",
      "Batch 1: Loss = 0.4326\n",
      "Batch 2: Loss = 0.3942\n",
      "Batch 3: Loss = 0.3351\n",
      "Batch 4: Loss = 0.4273\n",
      "Batch 5: Loss = 0.4367\n",
      "Batch 6: Loss = 0.4319\n",
      "Batch 7: Loss = 0.3524\n",
      "Batch 8: Loss = 0.4899\n",
      "Batch 9: Loss = 0.3898\n",
      "Batch 10: Loss = 0.3953\n",
      "Batch 11: Loss = 0.3675\n",
      "Batch 12: Loss = 0.4629\n",
      "Batch 13: Loss = 0.4043\n",
      "Batch 14: Loss = 0.3650\n",
      "Batch 15: Loss = 0.4101\n",
      "Batch 16: Loss = 0.4921\n",
      "Batch 17: Loss = 0.4473\n",
      "Batch 18: Loss = 0.4248\n",
      "Batch 19: Loss = 0.4334\n",
      "Batch 20: Loss = 0.4468\n",
      "Batch 21: Loss = 0.3564\n",
      "Batch 22: Loss = 0.4505\n",
      "Batch 23: Loss = 0.4008\n",
      "Batch 24: Loss = 0.4329\n",
      "Batch 25: Loss = 0.4413\n",
      "Batch 26: Loss = 0.3949\n",
      "Batch 27: Loss = 0.3945\n",
      "Batch 28: Loss = 0.3561\n",
      "Batch 29: Loss = 0.3492\n",
      "Batch 30: Loss = 0.4311\n",
      "Avg loss = 12.7996 / 31 = 0.4129\n",
      "Val\n",
      "\n",
      "\n",
      "Average output for correctly classified class 0: 0.2070\n",
      "Average output for incorrectly classified class 0: 0.7161\n",
      "\n",
      "Average output for correctly classified class 1: 0.8539\n",
      "Average output for incorrectly classified class 1: 0.3042\n",
      "\n",
      "Avg loss = 6.4625 / 12 = 0.5385\n",
      "\n",
      "Validation set: Average loss: 0.5385, Accuracy: 1028/1438 (71%)\n",
      "\n",
      "Train\n",
      "Batch 0: Loss = 0.3377\n",
      "Batch 1: Loss = 0.3899\n",
      "Batch 2: Loss = 0.3661\n",
      "Batch 3: Loss = 0.5245\n",
      "Batch 4: Loss = 0.3866\n",
      "Batch 5: Loss = 0.3676\n",
      "Batch 6: Loss = 0.4113\n",
      "Batch 7: Loss = 0.3756\n",
      "Batch 8: Loss = 0.4270\n",
      "Batch 9: Loss = 0.4490\n",
      "Batch 10: Loss = 0.3960\n",
      "Batch 11: Loss = 0.3822\n",
      "Batch 12: Loss = 0.4308\n",
      "Batch 13: Loss = 0.3465\n",
      "Batch 14: Loss = 0.3360\n",
      "Batch 15: Loss = 0.4049\n",
      "Batch 16: Loss = 0.3055\n",
      "Batch 17: Loss = 0.4042\n",
      "Batch 18: Loss = 0.4425\n",
      "Batch 19: Loss = 0.4296\n",
      "Batch 20: Loss = 0.3569\n",
      "Batch 21: Loss = 0.3828\n",
      "Batch 22: Loss = 0.3797\n",
      "Batch 23: Loss = 0.3742\n",
      "Batch 24: Loss = 0.3220\n",
      "Batch 25: Loss = 0.3785\n",
      "Batch 26: Loss = 0.3247\n",
      "Batch 27: Loss = 0.3605\n",
      "Batch 28: Loss = 0.3513\n",
      "Batch 29: Loss = 0.3713\n",
      "Batch 30: Loss = 0.3570\n",
      "Avg loss = 11.8723 / 31 = 0.3830\n",
      "Val\n",
      "\n",
      "\n",
      "Average output for correctly classified class 0: 0.2414\n",
      "Average output for incorrectly classified class 0: 0.7222\n",
      "\n",
      "Average output for correctly classified class 1: 0.8561\n",
      "Average output for incorrectly classified class 1: 0.3215\n",
      "\n",
      "Avg loss = 6.2491 / 12 = 0.5208\n",
      "\n",
      "Validation set: Average loss: 0.5208, Accuracy: 1064/1438 (74%)\n",
      "\n",
      "Train\n",
      "Batch 0: Loss = 0.4009\n",
      "Batch 1: Loss = 0.3512\n",
      "Batch 2: Loss = 0.2822\n",
      "Batch 3: Loss = 0.3300\n",
      "Batch 4: Loss = 0.3361\n",
      "Batch 5: Loss = 0.3730\n",
      "Batch 6: Loss = 0.2974\n",
      "Batch 7: Loss = 0.3608\n",
      "Batch 8: Loss = 0.3215\n",
      "Batch 9: Loss = 0.5159\n",
      "Batch 10: Loss = 0.3756\n",
      "Batch 11: Loss = 0.3416\n",
      "Batch 12: Loss = 0.2922\n",
      "Batch 13: Loss = 0.2836\n",
      "Batch 14: Loss = 0.2697\n",
      "Batch 15: Loss = 0.4637\n",
      "Batch 16: Loss = 0.3196\n",
      "Batch 17: Loss = 0.4270\n",
      "Batch 18: Loss = 0.3618\n",
      "Batch 19: Loss = 0.4256\n",
      "Batch 20: Loss = 0.3698\n",
      "Batch 21: Loss = 0.3527\n",
      "Batch 22: Loss = 0.2943\n",
      "Batch 23: Loss = 0.3965\n",
      "Batch 24: Loss = 0.3174\n",
      "Batch 25: Loss = 0.3439\n",
      "Batch 26: Loss = 0.3151\n",
      "Batch 27: Loss = 0.3196\n",
      "Batch 28: Loss = 0.3732\n",
      "Batch 29: Loss = 0.3745\n",
      "Batch 30: Loss = 0.2377\n",
      "Avg loss = 10.8242 / 31 = 0.3492\n",
      "Val\n",
      "\n",
      "\n",
      "Average output for correctly classified class 0: 0.1951\n",
      "Average output for incorrectly classified class 0: 0.7241\n",
      "\n",
      "Average output for correctly classified class 1: 0.8477\n",
      "Average output for incorrectly classified class 1: 0.2719\n",
      "\n",
      "Avg loss = 6.7676 / 12 = 0.5640\n",
      "\n",
      "Validation set: Average loss: 0.5640, Accuracy: 1051/1438 (73%)\n",
      "\n",
      "Train\n",
      "Batch 0: Loss = 0.3317\n",
      "Batch 1: Loss = 0.3554\n",
      "Batch 2: Loss = 0.3767\n",
      "Batch 3: Loss = 0.3606\n",
      "Batch 4: Loss = 0.3226\n",
      "Batch 5: Loss = 0.3262\n",
      "Batch 6: Loss = 0.2978\n",
      "Batch 7: Loss = 0.3702\n",
      "Batch 8: Loss = 0.3839\n",
      "Batch 9: Loss = 0.3063\n",
      "Batch 10: Loss = 0.2997\n",
      "Batch 11: Loss = 0.3415\n",
      "Batch 12: Loss = 0.3516\n",
      "Batch 13: Loss = 0.2951\n",
      "Batch 14: Loss = 0.2914\n",
      "Batch 15: Loss = 0.3266\n",
      "Batch 16: Loss = 0.2811\n",
      "Batch 17: Loss = 0.3350\n",
      "Batch 18: Loss = 0.2826\n",
      "Batch 19: Loss = 0.2016\n",
      "Batch 20: Loss = 0.2618\n",
      "Batch 21: Loss = 0.2497\n",
      "Batch 22: Loss = 0.2643\n",
      "Batch 23: Loss = 0.2894\n",
      "Batch 24: Loss = 0.3613\n",
      "Batch 25: Loss = 0.2946\n",
      "Batch 26: Loss = 0.3065\n",
      "Batch 27: Loss = 0.2337\n",
      "Batch 28: Loss = 0.3597\n",
      "Batch 29: Loss = 0.3412\n",
      "Batch 30: Loss = 0.2394\n",
      "Avg loss = 9.6391 / 31 = 0.3109\n",
      "Val\n",
      "\n",
      "\n",
      "Average output for correctly classified class 0: 0.1485\n",
      "Average output for incorrectly classified class 0: 0.7411\n",
      "\n",
      "Average output for correctly classified class 1: 0.8679\n",
      "Average output for incorrectly classified class 1: 0.2506\n",
      "\n",
      "Avg loss = 7.0741 / 12 = 0.5895\n",
      "\n",
      "Validation set: Average loss: 0.5895, Accuracy: 1031/1438 (72%)\n",
      "\n",
      "Train\n",
      "Batch 0: Loss = 0.2752\n",
      "Batch 1: Loss = 0.3586\n",
      "Batch 2: Loss = 0.2642\n",
      "Batch 3: Loss = 0.2770\n",
      "Batch 4: Loss = 0.2470\n",
      "Batch 5: Loss = 0.3295\n",
      "Batch 6: Loss = 0.2228\n",
      "Batch 7: Loss = 0.3611\n",
      "Batch 8: Loss = 0.1797\n",
      "Batch 9: Loss = 0.2567\n",
      "Batch 10: Loss = 0.2762\n",
      "Batch 11: Loss = 0.2949\n",
      "Batch 12: Loss = 0.2462\n",
      "Batch 13: Loss = 0.3042\n",
      "Batch 14: Loss = 0.2812\n",
      "Batch 15: Loss = 0.2717\n",
      "Batch 16: Loss = 0.3321\n",
      "Batch 17: Loss = 0.3101\n",
      "Batch 18: Loss = 0.3061\n",
      "Batch 19: Loss = 0.2904\n",
      "Batch 20: Loss = 0.3237\n",
      "Batch 21: Loss = 0.3401\n",
      "Batch 22: Loss = 0.2471\n",
      "Batch 23: Loss = 0.3259\n",
      "Batch 24: Loss = 0.2869\n",
      "Batch 25: Loss = 0.3494\n",
      "Batch 26: Loss = 0.3123\n",
      "Batch 27: Loss = 0.2642\n",
      "Batch 28: Loss = 0.2764\n",
      "Batch 29: Loss = 0.4039\n",
      "Batch 30: Loss = 0.2908\n",
      "Avg loss = 9.1056 / 31 = 0.2937\n",
      "Val\n",
      "\n",
      "\n",
      "Average output for correctly classified class 0: 0.1877\n",
      "Average output for incorrectly classified class 0: 0.7319\n",
      "\n",
      "Average output for correctly classified class 1: 0.8306\n",
      "Average output for incorrectly classified class 1: 0.2891\n",
      "\n",
      "Avg loss = 6.5389 / 12 = 0.5449\n",
      "\n",
      "Validation set: Average loss: 0.5449, Accuracy: 1071/1438 (74%)\n",
      "\n"
     ]
    }
   ],
   "source": [
    "model = model.to(device)\n",
    "criterion = nn.BCEWithLogitsLoss()\n",
    "optimizer = optim.Adam(model.parameters(), lr=0.0001, weight_decay=0.01)\n",
    "# scheduler = optim.lr_scheduler.ReduceLROnPlateau(optimizer, mode='min', patience=2, factor=0.1)\n",
    "\n",
    "# optimizer = optim.SGD(model.parameters(), lr=0.001)\n",
    "\n",
    "now = datetime.now()\n",
    "log_dir = \"./logs/\" + now.strftime(\"%Y%m%d-%H%M%S-\") + resnet_arch + \"/\"\n",
    "writer = SummaryWriter(log_dir=log_dir, comment='Training Logs')\n",
    "\n",
    "for epoch in range(1, 10 + 1):\n",
    "    train(model, device, train_loader, optimizer, criterion, epoch, writer,verbose=1)\n",
    "    val_loss = val(model, device, val_loader, criterion, epoch, writer, verbose=2)\n",
    "    #scheduler.step(val_loss)\n",
    "\n",
    "writer.close()"
   ]
  },
  {
   "cell_type": "code",
   "execution_count": 24,
   "id": "a67dc35e-afd3-47f2-b3ca-b9c46a1d4b68",
   "metadata": {},
   "outputs": [
    {
     "name": "stdout",
     "output_type": "stream",
     "text": [
      "Saved model to ./models/ResNet18_fc+layer4_2025-01-28_.pth\n"
     ]
    }
   ],
   "source": [
    "parameter_version = 'v2'\n",
    "torch.save(model.state_dict(), \"./models/\"  + resnet_arch +\"_\" + train_type + \"_\" + now.strftime(\"%Y-%m-%d\") + \"_\" +parameter_version+ \".pth\")\n",
    "print(\"Saved model to ./models/\"  + resnet_arch +\"_\" +train_type + \"_\" + now.strftime(\"%Y-%m-%d\") + \"_\" + parameter_version +\".pth\")"
   ]
  },
  {
   "cell_type": "code",
   "execution_count": 17,
   "id": "cb019087-fd7a-46e8-a8f3-511153f051cf",
   "metadata": {
    "scrolled": true
   },
   "outputs": [
    {
     "data": {
      "text/html": [
       "\n",
       "      <iframe id=\"tensorboard-frame-89549cbd1bec77e2\" width=\"100%\" height=\"800\" frameborder=\"0\">\n",
       "      </iframe>\n",
       "      <script>\n",
       "        (function() {\n",
       "          const frame = document.getElementById(\"tensorboard-frame-89549cbd1bec77e2\");\n",
       "          const url = new URL(\"/\", window.location);\n",
       "          const port = 7015;\n",
       "          if (port) {\n",
       "            url.port = port;\n",
       "          }\n",
       "          frame.src = url;\n",
       "        })();\n",
       "      </script>\n",
       "    "
      ],
      "text/plain": [
       "<IPython.core.display.HTML object>"
      ]
     },
     "metadata": {},
     "output_type": "display_data"
    }
   ],
   "source": [
    "%tensorboard --logdir=./logs/ --host localhost --port 7015"
   ]
  },
  {
   "cell_type": "markdown",
   "id": "31b491c3-abea-494e-8b6f-83d35df57239",
   "metadata": {},
   "source": [
    "# Test Evaluation"
   ]
  },
  {
   "cell_type": "code",
   "execution_count": 25,
   "id": "544d5de7-c3db-4b22-961f-edaf61cdd991",
   "metadata": {},
   "outputs": [],
   "source": [
    "def test(model, device, test_loader, criterion):\n",
    "    model.eval()  # Set model to evaluation mode\n",
    "    test_loss = 0\n",
    "    correct = 0\n",
    "    \n",
    "    with torch.no_grad():\n",
    "        for data, target in test_loader:\n",
    "            data, target = data.to(device), target.to(device)\n",
    "            \n",
    "            # Compute loss\n",
    "            output = model(data)       \n",
    "            test_loss += criterion(output.squeeze(), target.float()).item()  # Sum up batch loss\n",
    "            \n",
    "            # # Apply sigmoid to logits to get probabilities\n",
    "            output = torch.sigmoid(output)\n",
    "            \n",
    "            # Get predictions by thresholding at 0.5\n",
    "            pred = (output > 0.5).float()  # Convert probabilities to 0 or 1\n",
    "            \n",
    "            # Update correct count (compare predictions to target)\n",
    "            correct += pred.eq(target.view_as(pred)).sum().item()\n",
    "\n",
    "    # Average the val loss over the entire dataset\n",
    "    test_loss /= len(test_loader)\n",
    "    test_accuracy = 100. * correct / len(test_loader.dataset)\n",
    "    \n",
    "    return test_loss, test_accuracy"
   ]
  },
  {
   "cell_type": "code",
   "execution_count": 26,
   "id": "ed4775e4-97d0-4192-bfeb-3a365b6af635",
   "metadata": {},
   "outputs": [
    {
     "name": "stdout",
     "output_type": "stream",
     "text": [
      "Test Loss: 0.9899, Test Accuracy: 77.6258\n"
     ]
    }
   ],
   "source": [
    "test_loss, test_accuracy = test(model, device, test_loader, criterion)\n",
    "print(f\"Test Loss: {test_loss:.4f}, Test Accuracy: {test_accuracy:.4f}\")"
   ]
  },
  {
   "cell_type": "markdown",
   "id": "862c658c-f57b-4874-9c31-8f8ccab8002f",
   "metadata": {},
   "source": [
    "# Visualise Predictions"
   ]
  },
  {
   "cell_type": "code",
   "execution_count": 21,
   "id": "73acfd96-0f42-4fc5-a740-1b8b3b819405",
   "metadata": {},
   "outputs": [],
   "source": [
    "def visualize_model(model, num_images=6, show_fails=False):\n",
    "    was_training = model.training\n",
    "    model.eval()\n",
    "    images_so_far = 0\n",
    "    fig = plt.figure()\n",
    "\n",
    "    with torch.no_grad():\n",
    "        for inputs, labels in val_loader:\n",
    "            inputs = inputs.to(device)\n",
    "            labels = labels.to(device)\n",
    "\n",
    "            output = model(inputs)\n",
    "            \n",
    "            # # Apply sigmoid to logits to get probabilities\n",
    "            output = torch.sigmoid(output)\n",
    "            \n",
    "            # Get predictions by thresholding at 0.5\n",
    "            pred = (output > 0.5).float()  # Convert probabilities to 0 or 1\n",
    "\n",
    "            for j in range(inputs.size()[0]):\n",
    "                # Check if prediction matches the label\n",
    "                is_misclassified = pred[j].item() != labels[j].item()\n",
    "\n",
    "                # Skip correctly classified cases if show_fails is True\n",
    "                if show_fails and not is_misclassified:\n",
    "                    continue\n",
    "                    \n",
    "                images_so_far += 1\n",
    "                ax = plt.subplot(num_images//2, 2, images_so_far)\n",
    "                ax.axis('off')\n",
    "                ax.set_title(f'Predicted: {pred[j].item()}. Ground Truth: {labels[j].item()}.')\n",
    "                print(f'Confidence / Model Output: {output[j].item():.3f}')\n",
    "                imshow(inputs.cpu().data[j])\n",
    "\n",
    "                if images_so_far == num_images:\n",
    "                    model.train(mode=was_training)\n",
    "                    return\n",
    "        model.train(mode=was_training)"
   ]
  },
  {
   "cell_type": "code",
   "execution_count": 22,
   "id": "6198bb3a-82e8-4073-bfe7-b4c0ef7dcf9a",
   "metadata": {
    "scrolled": true
   },
   "outputs": [
    {
     "name": "stdout",
     "output_type": "stream",
     "text": [
      "0/1 - High confidence, ~0.5 - Low confidence\n",
      "==================================================\n",
      "Confidence / Model Output: 0.150\n"
     ]
    },
    {
     "data": {
      "image/png": "[encoded data removed]",
      "text/plain": [
       "<Figure size 640x480 with 1 Axes>"
      ]
     },
     "metadata": {},
     "output_type": "display_data"
    },
    {
     "name": "stdout",
     "output_type": "stream",
     "text": [
      "Confidence / Model Output: 0.868\n"
     ]
    },
    {
     "data": {
      "image/png": "[encoded data removed]",
      "text/plain": [
       "<Figure size 640x480 with 1 Axes>"
      ]
     },
     "metadata": {},
     "output_type": "display_data"
    },
    {
     "name": "stdout",
     "output_type": "stream",
     "text": [
      "Confidence / Model Output: 0.677\n"
     ]
    },
    {
     "data": {
      "image/png": "[encoded data removed]",
      "text/plain": [
       "<Figure size 640x480 with 1 Axes>"
      ]
     },
     "metadata": {},
     "output_type": "display_data"
    },
    {
     "name": "stdout",
     "output_type": "stream",
     "text": [
      "Confidence / Model Output: 0.042\n"
     ]
    },
    {
     "data": {
      "image/png": "[encoded data removed]",
      "text/plain": [
       "<Figure size 640x480 with 1 Axes>"
      ]
     },
     "metadata": {},
     "output_type": "display_data"
    },
    {
     "name": "stdout",
     "output_type": "stream",
     "text": [
      "Confidence / Model Output: 0.002\n"
     ]
    },
    {
     "data": {
      "image/png": "[encoded data removed]",
      "text/plain": [
       "<Figure size 640x480 with 1 Axes>"
      ]
     },
     "metadata": {},
     "output_type": "display_data"
    },
    {
     "name": "stdout",
     "output_type": "stream",
     "text": [
      "Confidence / Model Output: 0.643\n"
     ]
    },
    {
     "data": {
      "image/png": "[encoded data removed]",
      "text/plain": [
       "<Figure size 640x480 with 1 Axes>"
      ]
     },
     "metadata": {},
     "output_type": "display_data"
    },
    {
     "name": "stdout",
     "output_type": "stream",
     "text": [
      "Confidence / Model Output: 0.648\n"
     ]
    },
    {
     "data": {
      "image/png": "[encoded data removed]",
      "text/plain": [
       "<Figure size 640x480 with 1 Axes>"
      ]
     },
     "metadata": {},
     "output_type": "display_data"
    },
    {
     "name": "stdout",
     "output_type": "stream",
     "text": [
      "Confidence / Model Output: 0.302\n"
     ]
    },
    {
     "data": {
      "image/png": "[encoded data removed]",
      "text/plain": [
       "<Figure size 640x480 with 1 Axes>"
      ]
     },
     "metadata": {},
     "output_type": "display_data"
    },
    {
     "name": "stdout",
     "output_type": "stream",
     "text": [
      "Confidence / Model Output: 0.174\n"
     ]
    },
    {
     "data": {
      "image/png": "[encoded data removed]",
      "text/plain": [
       "<Figure size 640x480 with 1 Axes>"
      ]
     },
     "metadata": {},
     "output_type": "display_data"
    },
    {
     "name": "stdout",
     "output_type": "stream",
     "text": [
      "Confidence / Model Output: 0.968\n"
     ]
    },
    {
     "data": {
      "image/png": "[encoded data removed]",
      "text/plain": [
       "<Figure size 640x480 with 1 Axes>"
      ]
     },
     "metadata": {},
     "output_type": "display_data"
    },
    {
     "name": "stdout",
     "output_type": "stream",
     "text": [
      "Confidence / Model Output: 0.000\n"
     ]
    },
    {
     "data": {
      "image/png": "[encoded data removed]",
      "text/plain": [
       "<Figure size 640x480 with 1 Axes>"
      ]
     },
     "metadata": {},
     "output_type": "display_data"
    },
    {
     "name": "stdout",
     "output_type": "stream",
     "text": [
      "Confidence / Model Output: 1.000\n"
     ]
    },
    {
     "data": {
      "image/png": "[encoded data removed]",
      "text/plain": [
       "<Figure size 640x480 with 1 Axes>"
      ]
     },
     "metadata": {},
     "output_type": "display_data"
    }
   ],
   "source": [
    "print('0/1 - High confidence, ~0.5 - Low confidence')\n",
    "print('='*50)\n",
    "visualize_model(model, num_images=12, show_fails=True)"
   ]
  }
 ],
 "metadata": {
  "kernelspec": {
   "display_name": "Level 4 Project Env",
   "language": "python",
   "name": "l4project"
  },
  "language_info": {
   "codemirror_mode": {
    "name": "ipython",
    "version": 3
   },
   "file_extension": ".py",
   "mimetype": "text/x-python",
   "name": "python",
   "nbconvert_exporter": "python",
   "pygments_lexer": "ipython3",
   "version": "3.10.6"
  }
 },
 "nbformat": 4,
 "nbformat_minor": 5
}
