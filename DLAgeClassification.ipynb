{
 "cells": [
  {
   "cell_type": "code",
   "execution_count": 1,
   "id": "1edce0d1-f02f-40ef-9565-450b2ac0ff25",
   "metadata": {},
   "outputs": [],
   "source": [
    "import torch\n",
    "import torch.nn as nn\n",
    "import torch.optim as optim\n",
    "import torch.nn.functional as F\n",
    "from torch.utils.data import Dataset, DataLoader, sampler\n",
    "from torchvision import transforms, utils\n",
    "from torchvision import models\n",
    "from torchvision.models import ResNet18_Weights\n",
    "from PIL import Image\n",
    "\n",
    "import pandas as pd\n",
    "import os\n",
    "from matplotlib import pyplot as plt\n",
    "import numpy as np\n"
   ]
  },
  {
   "cell_type": "code",
   "execution_count": 2,
   "id": "90291430-1225-4eb2-ba29-280e3ed6597d",
   "metadata": {},
   "outputs": [
    {
     "data": {
      "text/plain": [
       "'cpu'"
      ]
     },
     "execution_count": 2,
     "metadata": {},
     "output_type": "execute_result"
    }
   ],
   "source": [
    "device = \"cuda\" if torch.cuda.is_available() else \"cpu\"\n",
    "device"
   ]
  },
  {
   "cell_type": "markdown",
   "id": "69c6a0d9-27bb-4f93-b45c-53c12c24be18",
   "metadata": {},
   "source": [
    "# Data Loaders"
   ]
  },
  {
   "cell_type": "markdown",
   "id": "6afc1163-a6ab-4e9d-8aa2-257bc8660136",
   "metadata": {},
   "source": [
    "### Dataset for Returning Image and Class"
   ]
  },
  {
   "cell_type": "code",
   "execution_count": 3,
   "id": "2dde084d-a256-4959-8458-4023fc16fabd",
   "metadata": {},
   "outputs": [],
   "source": [
    "class CustomDataset(Dataset):\n",
    "    def __init__(self, csv_file, image_dir, transform=None, binary=True):\n",
    "        self.data = pd.read_csv(csv_file)\n",
    "        self.image_dir = image_dir\n",
    "        self.transform = transform\n",
    "        self.binary = binary\n",
    "\n",
    "       # Add a 'label' column to the DataFrame\n",
    "        if self.binary:\n",
    "            self.data['label'] = self.data['real_age'].apply(lambda age: 0 if age < 25 else 1)\n",
    "            self.classes = self.data['label'].unique().tolist()\n",
    "\n",
    "    def __len__(self):\n",
    "        return len(self.data)\n",
    "\n",
    "    def __getitem__(self, idx):\n",
    "        row = self.data.iloc[idx]\n",
    "        img_path = os.path.join(self.image_dir, row['file_name'])+'_face.jpg'\n",
    "        label = row['label']\n",
    "\n",
    "        # Load image\n",
    "        image = Image.open(img_path).convert('RGB')  # Load RGB\n",
    "        \n",
    "        # Apply transformations\n",
    "        if self.transform:\n",
    "            image = self.transform(image)\n",
    "\n",
    "        return image, label"
   ]
  },
  {
   "cell_type": "markdown",
   "id": "f4a8dcea-4b80-4d6b-bedc-6752163afccb",
   "metadata": {},
   "source": [
    "### Transformations for Data Augmentation and Normalisation"
   ]
  },
  {
   "cell_type": "code",
   "execution_count": 4,
   "id": "b27f925d-4c20-4328-bcb4-fbffb42e41c4",
   "metadata": {},
   "outputs": [],
   "source": [
    "train_transforms = transforms.Compose([\n",
    "    transforms.RandomHorizontalFlip(),\n",
    "    transforms.RandomRotation(10),\n",
    "    # transforms.ColorJitter(brightness=0.2, contrast=0.2, saturation=0.2, hue=0.1),\n",
    "    transforms.RandomResizedCrop(224, scale=(0.8,1)),\n",
    "    transforms.ToTensor(),\n",
    "    transforms.Normalize(mean=[0.485, 0.456, 0.406], std=[0.229, 0.224, 0.225]),\n",
    "])\n",
    "\n",
    "val_transforms = transforms.Compose([\n",
    "    transforms.Resize((224, 224)),\n",
    "    transforms.ToTensor(),\n",
    "    transforms.Normalize(mean=[0.485, 0.456, 0.406], std=[0.229, 0.224, 0.225]),\n",
    "])\n",
    "\n",
    "test_transforms = transforms.Compose([\n",
    "    transforms.Resize((224, 224)),\n",
    "    transforms.ToTensor(),\n",
    "    transforms.Normalize(mean=[0.485, 0.456, 0.406], std=[0.229, 0.224, 0.225]),\n",
    "])"
   ]
  },
  {
   "cell_type": "markdown",
   "id": "9e582649-1f09-4da9-bd52-49c876b87f1c",
   "metadata": {},
   "source": [
    "### Create Dataset from CSV"
   ]
  },
  {
   "cell_type": "code",
   "execution_count": 5,
   "id": "575d8ff1-89dc-4420-91b9-b4aa9bab9aad",
   "metadata": {},
   "outputs": [],
   "source": [
    "train_csv = '/Users/sambeattie/Documents/Level4Project/appa-real-release/cropped_train.csv'\n",
    "val_csv = '/Users/sambeattie/Documents/Level4Project/appa-real-release/cropped_valid.csv'\n",
    "test_csv = '/Users/sambeattie/Documents/Level4Project/appa-real-release/cropped_test.csv'\n",
    "\n",
    "train_dir = '/Users/sambeattie/Documents/Level4Project/appa-real-release/cropped_train'\n",
    "val_dir = '/Users/sambeattie/Documents/Level4Project/appa-real-release/cropped_valid'\n",
    "test_dir = '/Users/sambeattie/Documents/Level4Project/appa-real-release/cropped_test'\n",
    "\n",
    "\n",
    "# Create datasets\n",
    "train_dataset = CustomDataset(csv_file=train_csv, image_dir=train_dir, transform=train_transforms, binary=True)\n",
    "val_dataset = CustomDataset(csv_file=val_csv, image_dir=val_dir, transform=val_transforms, binary=True)\n",
    "test_dataset = CustomDataset(csv_file=test_csv, image_dir=test_dir, transform=test_transforms, binary=True)"
   ]
  },
  {
   "cell_type": "code",
   "execution_count": 6,
   "id": "add875cc-ebd6-4097-9727-ee21e3033a99",
   "metadata": {},
   "outputs": [
    {
     "name": "stdout",
     "output_type": "stream",
     "text": [
      "Train Dataset Size: 3920\n",
      "Val Dataset Size: 1438\n",
      "Test Dataset Size: 1828\n",
      "Classes: [0, 1]. 0<25yo | 1>=25yo\n"
     ]
    }
   ],
   "source": [
    "print(f\"Train Dataset Size: {len(train_dataset)}\")\n",
    "print(f\"Val Dataset Size: {len(val_dataset)}\")\n",
    "print(f\"Test Dataset Size: {len(test_dataset)}\")\n",
    "\n",
    "print(f\"Classes: {train_dataset.classes}. 0<25yo | 1>=25yo\")\n"
   ]
  },
  {
   "cell_type": "markdown",
   "id": "4bd7dff8-0d39-4e6c-a29c-32e092b45baf",
   "metadata": {},
   "source": [
    "### Stratification"
   ]
  },
  {
   "cell_type": "code",
   "execution_count": 7,
   "id": "fd698ecd-4266-485d-8e98-09f5339a4152",
   "metadata": {},
   "outputs": [],
   "source": [
    "# Compute class weights\n",
    "class_counts = train_dataset.data['label'].value_counts()\n",
    "class_weights = 1.0 / class_counts\n",
    "sample_weights = train_dataset.data['label'].map(class_weights)\n",
    "\n",
    "# Create sampler\n",
    "sampler = sampler.WeightedRandomSampler(weights=sample_weights, num_samples=len(sample_weights), replacement=True)"
   ]
  },
  {
   "cell_type": "markdown",
   "id": "3f12831e-fdce-45f9-b279-52a154d5d50d",
   "metadata": {},
   "source": [
    "### Creating Loaders"
   ]
  },
  {
   "cell_type": "code",
   "execution_count": 8,
   "id": "53cb7079-10ca-437f-b249-45743bae9e4a",
   "metadata": {},
   "outputs": [],
   "source": [
    "# Create DataLoaders\n",
    "train_loader = DataLoader(train_dataset, batch_size=32, sampler=sampler)\n",
    "val_loader = DataLoader(val_dataset, batch_size=100, shuffle=False)\n",
    "test_loader = DataLoader(test_dataset, batch_size=100, shuffle=False)"
   ]
  },
  {
   "cell_type": "markdown",
   "id": "70f46795-0ca7-4eeb-ace2-07a1b6a315a7",
   "metadata": {},
   "source": [
    "### Display Batches"
   ]
  },
  {
   "cell_type": "code",
   "execution_count": 9,
   "id": "d9d07f1a-8bd2-4d23-9ac5-df3cf0855080",
   "metadata": {},
   "outputs": [
    {
     "name": "stdout",
     "output_type": "stream",
     "text": [
      "Images batch shape: torch.Size([32, 3, 224, 224])\n",
      "Labels batch shape: torch.Size([32])\n",
      "Image Classes: tensor([1, 1, 1, 1, 1, 0, 1, 0, 0, 1, 0, 1, 0, 0, 0, 1, 0, 0, 0, 0, 0, 1, 0, 0,\n",
      "        1, 1, 0, 0, 1, 0, 1, 1])\n",
      "Class 1 Images: 15\n",
      "Class 0 Images: 17\n"
     ]
    },
    {
     "data": {
      "image/png": "[encoded data removed]",
      "text/plain": [
       "<Figure size 640x480 with 1 Axes>"
      ]
     },
     "metadata": {},
     "output_type": "display_data"
    }
   ],
   "source": [
    "def imshow(inp, title=None):\n",
    "    \"\"\"Display image for Tensor.\"\"\"\n",
    "    inp = inp.numpy().transpose((1, 2, 0))\n",
    "    mean = np.array([0.485, 0.456, 0.406])\n",
    "    std = np.array([0.229, 0.224, 0.225])\n",
    "    inp = std * inp + mean\n",
    "    inp = np.clip(inp, 0, 1)\n",
    "    plt.imshow(inp)\n",
    "    if title is not None:\n",
    "        plt.title(title)\n",
    "        pass\n",
    "    plt.pause(0.001)  # pause a bit so that plots are updated\n",
    "\n",
    "# Get one batch of data\n",
    "data_iter = iter(train_loader)  # Create an iterator from the DataLoader\n",
    "images, labels = next(data_iter)  # Get the first batch\n",
    "\n",
    "# Print out the shapes of images and labels\n",
    "print(f\"Images batch shape: {images.shape}\")\n",
    "print(f\"Labels batch shape: {labels.shape}\")\n",
    "print(f\"Image Classes: {labels}\")\n",
    "\n",
    "print(f\"Class 1 Images: {torch.sum(labels)}\")\n",
    "print(f\"Class 0 Images: {len(labels) - torch.sum(labels)}\")\n",
    "\n",
    "n = 8\n",
    "\n",
    "# Make a grid from batch\n",
    "out = utils.make_grid(images[:n])\n",
    "\n",
    "imshow(out, title=[x.item() for x in labels[:n]])"
   ]
  },
  {
   "cell_type": "markdown",
   "id": "e7290991-22f9-4cd7-afb5-0990099fd112",
   "metadata": {},
   "source": [
    "# Model Training"
   ]
  },
  {
   "cell_type": "markdown",
   "id": "903d24fd-dcbc-4077-aa80-9758e87c3bb7",
   "metadata": {},
   "source": [
    "## Using Pytorch pretrained ResNet model - trained on ImageNet"
   ]
  },
  {
   "cell_type": "code",
   "execution_count": 10,
   "id": "b4733e83-8a01-44ed-9c75-f59fd80298c2",
   "metadata": {},
   "outputs": [],
   "source": [
    "model = models.resnet18(weights=ResNet18_Weights.DEFAULT)"
   ]
  },
  {
   "cell_type": "code",
   "execution_count": 11,
   "id": "41b979ae-97a7-4614-a0a8-76de9f95c43d",
   "metadata": {},
   "outputs": [
    {
     "name": "stdout",
     "output_type": "stream",
     "text": [
      "Number of features from pre-trained model 512\n"
     ]
    }
   ],
   "source": [
    "num_features = model.fc.in_features \n",
    "print(f\"Number of features from pre-trained model {num_features}\")"
   ]
  },
  {
   "cell_type": "markdown",
   "id": "a020e4dd-c37f-470b-bef9-166fd7cd88f2",
   "metadata": {},
   "source": [
    "### Add a fully connected layer which maps from 512 -> 1\n",
    "- Freeze weights for existing parameters of pretrained model\n",
    "    - These dont need retrained since we are doing transfer learning\n",
    "- Add a fully connected linear layer\n",
    "    - This maps from the output of the pretrained model (512)\n",
    "    - To the output we want for our classifier (1 - the probability of being a certain class)\n",
    "- The weights in this layer will be trained to fit our data"
   ]
  },
  {
   "cell_type": "code",
   "execution_count": 12,
   "id": "054e0a06-52a4-46b7-a186-38ea99b7426a",
   "metadata": {},
   "outputs": [],
   "source": [
    "# Freeze the layers in the pre-trained model\n",
    "for param in model.parameters():\n",
    "    param.requires_grad = False\n",
    "\n",
    "model.fc = nn.Linear(num_features, 1)\n",
    "\n",
    "for param in model.fc.parameters():\n",
    "    param.requires_grad = True\n",
    "\n",
    "model = model.to(device)"
   ]
  },
  {
   "cell_type": "markdown",
   "id": "f8baf58b-05fe-4ce0-95cb-ff9a1867c356",
   "metadata": {},
   "source": [
    "### Train and Test functions"
   ]
  },
  {
   "cell_type": "code",
   "execution_count": 13,
   "id": "7631f761-134f-41fb-b300-8cad315dcaee",
   "metadata": {},
   "outputs": [],
   "source": [
    "def train(model, device, train_loader, optimizer, criterion, epoch):\n",
    "    model.train()\n",
    "    \n",
    "    for batch_idx, (data, target) in enumerate(train_loader):\n",
    "        data, target = data.to(device), target.to(device)\n",
    "        \n",
    "        optimizer.zero_grad()\n",
    "        \n",
    "        # Forward Pass\n",
    "        output = model(data)\n",
    "\n",
    "        # Compute Loss\n",
    "        # Squeeze output: (32, 1) -> (32,) to match target shape (32,)\n",
    "        # Convert target to float: Targets are integers 0,1. Loss function expects float\n",
    "        loss = criterion(output.squeeze(), target.float()) \n",
    "\n",
    "        # Backwards pass and optimisation\n",
    "        loss.backward()\n",
    "        optimizer.step()\n",
    "        \n",
    "        if batch_idx % 10 == 0:\n",
    "            print('Train Epoch: {} [{}/{} ({:.0f}%)]\\tLoss: {:.6f}'.format(\n",
    "                epoch, batch_idx * len(data), len(train_loader.dataset),\n",
    "                100. * batch_idx / len(train_loader), loss.item()))"
   ]
  },
  {
   "cell_type": "code",
   "execution_count": 14,
   "id": "40243a6c-c803-436e-9008-d23bdfa0efae",
   "metadata": {},
   "outputs": [],
   "source": [
    "def val(model, device, val_loader, criterion, epoch):\n",
    "    model.eval()  # Set model to evaluation mode\n",
    "    val_loss = 0\n",
    "    correct = 0\n",
    "    \n",
    "    with torch.no_grad():\n",
    "        for data, target in val_loader:\n",
    "            data, target = data.to(device), target.to(device)\n",
    "            output = model(data)\n",
    "            \n",
    "            # Compute loss\n",
    "            val_loss += criterion(output.squeeze(), target.float()).item()  # Sum up batch loss\n",
    "            \n",
    "            # # Apply sigmoid to logits to get probabilities\n",
    "            # output = torch.sigmoid(output)\n",
    "            \n",
    "            # Get predictions by thresholding at 0.5\n",
    "            pred = (output > 0.5).float()  # Convert probabilities to 0 or 1\n",
    "            \n",
    "            # Update correct count (compare predictions to target)\n",
    "            correct += pred.eq(target.view_as(pred)).sum().item()\n",
    "\n",
    "    # Average the val loss over the entire dataset\n",
    "    val_loss /= len(val_loader)\n",
    "    \n",
    "    # Print results\n",
    "    print('\\nValidation set: Average loss: {:.4f}, Accuracy: {}/{} ({:.0f}%)\\n'.format(\n",
    "        val_loss, correct, len(val_loader.dataset),\n",
    "        100. * correct / len(val_loader.dataset)))\n"
   ]
  },
  {
   "cell_type": "code",
   "execution_count": 15,
   "id": "b2499e95-bab5-4664-b742-71e7fe09c527",
   "metadata": {},
   "outputs": [
    {
     "name": "stdout",
     "output_type": "stream",
     "text": [
      "Train Epoch: 1 [0/3920 (0%)]\tLoss: 0.749050\n",
      "Train Epoch: 1 [320/3920 (8%)]\tLoss: 0.841448\n",
      "Train Epoch: 1 [640/3920 (16%)]\tLoss: 0.722137\n",
      "Train Epoch: 1 [960/3920 (24%)]\tLoss: 0.677686\n",
      "Train Epoch: 1 [1280/3920 (33%)]\tLoss: 0.639313\n",
      "Train Epoch: 1 [1600/3920 (41%)]\tLoss: 0.648840\n",
      "Train Epoch: 1 [1920/3920 (49%)]\tLoss: 0.568638\n",
      "Train Epoch: 1 [2240/3920 (57%)]\tLoss: 0.607024\n",
      "Train Epoch: 1 [2560/3920 (65%)]\tLoss: 0.623001\n",
      "Train Epoch: 1 [2880/3920 (73%)]\tLoss: 0.696900\n",
      "Train Epoch: 1 [3200/3920 (81%)]\tLoss: 0.688790\n",
      "Train Epoch: 1 [3520/3920 (89%)]\tLoss: 0.671876\n",
      "Train Epoch: 1 [3840/3920 (98%)]\tLoss: 0.668953\n",
      "\n",
      "Validation set: Average loss: 0.6557, Accuracy: 798/1438 (55%)\n",
      "\n",
      "Train Epoch: 2 [0/3920 (0%)]\tLoss: 0.729767\n",
      "Train Epoch: 2 [320/3920 (8%)]\tLoss: 0.581967\n",
      "Train Epoch: 2 [640/3920 (16%)]\tLoss: 0.528409\n",
      "Train Epoch: 2 [960/3920 (24%)]\tLoss: 0.506342\n",
      "Train Epoch: 2 [1280/3920 (33%)]\tLoss: 0.538080\n",
      "Train Epoch: 2 [1600/3920 (41%)]\tLoss: 0.660840\n",
      "Train Epoch: 2 [1920/3920 (49%)]\tLoss: 0.552564\n",
      "Train Epoch: 2 [2240/3920 (57%)]\tLoss: 0.567186\n",
      "Train Epoch: 2 [2560/3920 (65%)]\tLoss: 0.603176\n",
      "Train Epoch: 2 [2880/3920 (73%)]\tLoss: 0.602144\n",
      "Train Epoch: 2 [3200/3920 (81%)]\tLoss: 0.656577\n",
      "Train Epoch: 2 [3520/3920 (89%)]\tLoss: 0.773063\n",
      "Train Epoch: 2 [3840/3920 (98%)]\tLoss: 0.560486\n",
      "\n",
      "Validation set: Average loss: 0.7251, Accuracy: 757/1438 (53%)\n",
      "\n",
      "Train Epoch: 3 [0/3920 (0%)]\tLoss: 0.630111\n",
      "Train Epoch: 3 [320/3920 (8%)]\tLoss: 0.490507\n",
      "Train Epoch: 3 [640/3920 (16%)]\tLoss: 0.700989\n",
      "Train Epoch: 3 [960/3920 (24%)]\tLoss: 0.576369\n",
      "Train Epoch: 3 [1280/3920 (33%)]\tLoss: 0.654125\n",
      "Train Epoch: 3 [1600/3920 (41%)]\tLoss: 0.610830\n",
      "Train Epoch: 3 [1920/3920 (49%)]\tLoss: 0.549068\n",
      "Train Epoch: 3 [2240/3920 (57%)]\tLoss: 0.666763\n",
      "Train Epoch: 3 [2560/3920 (65%)]\tLoss: 0.554221\n",
      "Train Epoch: 3 [2880/3920 (73%)]\tLoss: 0.546471\n",
      "Train Epoch: 3 [3200/3920 (81%)]\tLoss: 0.475194\n",
      "Train Epoch: 3 [3520/3920 (89%)]\tLoss: 0.538894\n",
      "Train Epoch: 3 [3840/3920 (98%)]\tLoss: 0.572567\n",
      "\n",
      "Validation set: Average loss: 0.7742, Accuracy: 730/1438 (51%)\n",
      "\n",
      "Train Epoch: 4 [0/3920 (0%)]\tLoss: 0.604081\n",
      "Train Epoch: 4 [320/3920 (8%)]\tLoss: 0.615642\n",
      "Train Epoch: 4 [640/3920 (16%)]\tLoss: 0.509626\n",
      "Train Epoch: 4 [960/3920 (24%)]\tLoss: 0.695878\n",
      "Train Epoch: 4 [1280/3920 (33%)]\tLoss: 0.511906\n",
      "Train Epoch: 4 [1600/3920 (41%)]\tLoss: 0.647120\n",
      "Train Epoch: 4 [1920/3920 (49%)]\tLoss: 0.532348\n",
      "Train Epoch: 4 [2240/3920 (57%)]\tLoss: 0.541948\n",
      "Train Epoch: 4 [2560/3920 (65%)]\tLoss: 0.591781\n",
      "Train Epoch: 4 [2880/3920 (73%)]\tLoss: 0.718428\n",
      "Train Epoch: 4 [3200/3920 (81%)]\tLoss: 0.426882\n",
      "Train Epoch: 4 [3520/3920 (89%)]\tLoss: 0.500897\n",
      "Train Epoch: 4 [3840/3920 (98%)]\tLoss: 0.548069\n",
      "\n",
      "Validation set: Average loss: 0.5702, Accuracy: 961/1438 (67%)\n",
      "\n",
      "Train Epoch: 5 [0/3920 (0%)]\tLoss: 0.631908\n",
      "Train Epoch: 5 [320/3920 (8%)]\tLoss: 0.523097\n",
      "Train Epoch: 5 [640/3920 (16%)]\tLoss: 0.506915\n",
      "Train Epoch: 5 [960/3920 (24%)]\tLoss: 0.421998\n",
      "Train Epoch: 5 [1280/3920 (33%)]\tLoss: 0.432880\n",
      "Train Epoch: 5 [1600/3920 (41%)]\tLoss: 0.480420\n",
      "Train Epoch: 5 [1920/3920 (49%)]\tLoss: 0.564441\n",
      "Train Epoch: 5 [2240/3920 (57%)]\tLoss: 0.484244\n",
      "Train Epoch: 5 [2560/3920 (65%)]\tLoss: 0.710341\n",
      "Train Epoch: 5 [2880/3920 (73%)]\tLoss: 0.490926\n",
      "Train Epoch: 5 [3200/3920 (81%)]\tLoss: 0.460593\n",
      "Train Epoch: 5 [3520/3920 (89%)]\tLoss: 0.522894\n",
      "Train Epoch: 5 [3840/3920 (98%)]\tLoss: 0.432946\n",
      "\n",
      "Validation set: Average loss: 0.7038, Accuracy: 790/1438 (55%)\n",
      "\n",
      "Train Epoch: 6 [0/3920 (0%)]\tLoss: 0.524461\n",
      "Train Epoch: 6 [320/3920 (8%)]\tLoss: 0.658688\n",
      "Train Epoch: 6 [640/3920 (16%)]\tLoss: 0.446637\n",
      "Train Epoch: 6 [960/3920 (24%)]\tLoss: 0.471540\n",
      "Train Epoch: 6 [1280/3920 (33%)]\tLoss: 0.560723\n",
      "Train Epoch: 6 [1600/3920 (41%)]\tLoss: 0.659223\n",
      "Train Epoch: 6 [1920/3920 (49%)]\tLoss: 0.537459\n",
      "Train Epoch: 6 [2240/3920 (57%)]\tLoss: 0.545432\n",
      "Train Epoch: 6 [2560/3920 (65%)]\tLoss: 0.469878\n",
      "Train Epoch: 6 [2880/3920 (73%)]\tLoss: 0.630218\n",
      "Train Epoch: 6 [3200/3920 (81%)]\tLoss: 0.465757\n",
      "Train Epoch: 6 [3520/3920 (89%)]\tLoss: 0.572216\n",
      "Train Epoch: 6 [3840/3920 (98%)]\tLoss: 0.537127\n",
      "\n",
      "Validation set: Average loss: 0.5658, Accuracy: 972/1438 (68%)\n",
      "\n",
      "Train Epoch: 7 [0/3920 (0%)]\tLoss: 0.506713\n",
      "Train Epoch: 7 [320/3920 (8%)]\tLoss: 0.742671\n",
      "Train Epoch: 7 [640/3920 (16%)]\tLoss: 0.639198\n",
      "Train Epoch: 7 [960/3920 (24%)]\tLoss: 0.450032\n",
      "Train Epoch: 7 [1280/3920 (33%)]\tLoss: 0.481970\n",
      "Train Epoch: 7 [1600/3920 (41%)]\tLoss: 0.669076\n",
      "Train Epoch: 7 [1920/3920 (49%)]\tLoss: 0.587670\n",
      "Train Epoch: 7 [2240/3920 (57%)]\tLoss: 0.620961\n",
      "Train Epoch: 7 [2560/3920 (65%)]\tLoss: 0.492290\n",
      "Train Epoch: 7 [2880/3920 (73%)]\tLoss: 0.641955\n",
      "Train Epoch: 7 [3200/3920 (81%)]\tLoss: 0.576709\n",
      "Train Epoch: 7 [3520/3920 (89%)]\tLoss: 0.513612\n",
      "Train Epoch: 7 [3840/3920 (98%)]\tLoss: 0.433546\n",
      "\n",
      "Validation set: Average loss: 0.5631, Accuracy: 957/1438 (67%)\n",
      "\n",
      "Train Epoch: 8 [0/3920 (0%)]\tLoss: 0.558977\n",
      "Train Epoch: 8 [320/3920 (8%)]\tLoss: 0.579831\n",
      "Train Epoch: 8 [640/3920 (16%)]\tLoss: 0.817026\n",
      "Train Epoch: 8 [960/3920 (24%)]\tLoss: 0.681841\n",
      "Train Epoch: 8 [1280/3920 (33%)]\tLoss: 0.474685\n",
      "Train Epoch: 8 [1600/3920 (41%)]\tLoss: 0.600714\n",
      "Train Epoch: 8 [1920/3920 (49%)]\tLoss: 0.591275\n",
      "Train Epoch: 8 [2240/3920 (57%)]\tLoss: 0.494895\n",
      "Train Epoch: 8 [2560/3920 (65%)]\tLoss: 0.450443\n",
      "Train Epoch: 8 [2880/3920 (73%)]\tLoss: 0.584809\n",
      "Train Epoch: 8 [3200/3920 (81%)]\tLoss: 0.479763\n",
      "Train Epoch: 8 [3520/3920 (89%)]\tLoss: 0.554022\n",
      "Train Epoch: 8 [3840/3920 (98%)]\tLoss: 0.576767\n",
      "\n",
      "Validation set: Average loss: 0.5683, Accuracy: 996/1438 (69%)\n",
      "\n",
      "Train Epoch: 9 [0/3920 (0%)]\tLoss: 0.741987\n",
      "Train Epoch: 9 [320/3920 (8%)]\tLoss: 0.679137\n",
      "Train Epoch: 9 [640/3920 (16%)]\tLoss: 0.580408\n",
      "Train Epoch: 9 [960/3920 (24%)]\tLoss: 0.674895\n",
      "Train Epoch: 9 [1280/3920 (33%)]\tLoss: 0.701505\n",
      "Train Epoch: 9 [1600/3920 (41%)]\tLoss: 0.568376\n",
      "Train Epoch: 9 [1920/3920 (49%)]\tLoss: 0.541607\n",
      "Train Epoch: 9 [2240/3920 (57%)]\tLoss: 0.556417\n",
      "Train Epoch: 9 [2560/3920 (65%)]\tLoss: 0.574053\n",
      "Train Epoch: 9 [2880/3920 (73%)]\tLoss: 0.576116\n",
      "Train Epoch: 9 [3200/3920 (81%)]\tLoss: 0.512318\n",
      "Train Epoch: 9 [3520/3920 (89%)]\tLoss: 0.579800\n",
      "Train Epoch: 9 [3840/3920 (98%)]\tLoss: 0.550818\n",
      "\n",
      "Validation set: Average loss: 0.5580, Accuracy: 988/1438 (69%)\n",
      "\n",
      "Train Epoch: 10 [0/3920 (0%)]\tLoss: 0.567672\n",
      "Train Epoch: 10 [320/3920 (8%)]\tLoss: 0.610687\n",
      "Train Epoch: 10 [640/3920 (16%)]\tLoss: 0.601827\n",
      "Train Epoch: 10 [960/3920 (24%)]\tLoss: 0.721581\n",
      "Train Epoch: 10 [1280/3920 (33%)]\tLoss: 0.654903\n",
      "Train Epoch: 10 [1600/3920 (41%)]\tLoss: 0.701309\n",
      "Train Epoch: 10 [1920/3920 (49%)]\tLoss: 0.513384\n",
      "Train Epoch: 10 [2240/3920 (57%)]\tLoss: 0.607031\n",
      "Train Epoch: 10 [2560/3920 (65%)]\tLoss: 0.510617\n",
      "Train Epoch: 10 [2880/3920 (73%)]\tLoss: 0.474084\n",
      "Train Epoch: 10 [3200/3920 (81%)]\tLoss: 0.589304\n",
      "Train Epoch: 10 [3520/3920 (89%)]\tLoss: 0.495422\n",
      "Train Epoch: 10 [3840/3920 (98%)]\tLoss: 0.405773\n",
      "\n",
      "Validation set: Average loss: 0.5806, Accuracy: 944/1438 (66%)\n",
      "\n"
     ]
    }
   ],
   "source": [
    "criterion = nn.BCEWithLogitsLoss()\n",
    "optimizer = optim.SGD(model.parameters(), lr=0.01, momentum=0.5)\n",
    "\n",
    "for epoch in range(1, 10 + 1):\n",
    "    train(model, device, train_loader, optimizer, criterion, epoch)\n",
    "    val(model, device, val_loader, criterion, epoch)"
   ]
  },
  {
   "cell_type": "code",
   "execution_count": null,
   "id": "f0675f00-3b65-401e-bb90-7758725addda",
   "metadata": {},
   "outputs": [],
   "source": []
  }
 ],
 "metadata": {
  "kernelspec": {
   "display_name": "image-classification",
   "language": "python",
   "name": "image-classification"
  },
  "language_info": {
   "codemirror_mode": {
    "name": "ipython",
    "version": 3
   },
   "file_extension": ".py",
   "mimetype": "text/x-python",
   "name": "python",
   "nbconvert_exporter": "python",
   "pygments_lexer": "ipython3",
   "version": "3.12.6"
  }
 },
 "nbformat": 4,
 "nbformat_minor": 5
}
