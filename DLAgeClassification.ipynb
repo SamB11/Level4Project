{
 "cells": [
  {
   "cell_type": "code",
   "execution_count": 1,
   "id": "1edce0d1-f02f-40ef-9565-450b2ac0ff25",
   "metadata": {},
   "outputs": [],
   "source": [
    "import torch\n",
    "import torch.nn as nn\n",
    "import torch.optim as optim\n",
    "import torch.nn.functional as F\n",
    "from torch.utils.data import Dataset, DataLoader, WeightedRandomSampler\n",
    "from torchvision import utils\n",
    "from torchvision.transforms import v2 as transforms\n",
    "from torchvision import models\n",
    "from torchvision.models import ResNet18_Weights, ResNet50_Weights\n",
    "from PIL import Image\n",
    "import pandas as pd\n",
    "import os\n",
    "from matplotlib import pyplot as plt\n",
    "import numpy as np\n",
    "from torch.utils.tensorboard import SummaryWriter\n",
    "from datetime import datetime\n",
    "from torchvision.io.image import decode_jpeg, read_file\n"
   ]
  },
  {
   "cell_type": "code",
   "execution_count": 2,
   "id": "90291430-1225-4eb2-ba29-280e3ed6597d",
   "metadata": {},
   "outputs": [
    {
     "data": {
      "text/plain": [
       "'cuda'"
      ]
     },
     "execution_count": 2,
     "metadata": {},
     "output_type": "execute_result"
    }
   ],
   "source": [
    "device = \"cuda\" if torch.cuda.is_available() else \"cpu\"\n",
    "device"
   ]
  },
  {
   "cell_type": "markdown",
   "id": "69c6a0d9-27bb-4f93-b45c-53c12c24be18",
   "metadata": {},
   "source": [
    "# Data Loaders"
   ]
  },
  {
   "cell_type": "markdown",
   "id": "6afc1163-a6ab-4e9d-8aa2-257bc8660136",
   "metadata": {},
   "source": [
    "### Dataset for Returning Image and Class"
   ]
  },
  {
   "cell_type": "code",
   "execution_count": 3,
   "id": "2dde084d-a256-4959-8458-4023fc16fabd",
   "metadata": {},
   "outputs": [],
   "source": [
    "class CustomDataset(Dataset):\n",
    "    def __init__(self, csv_file, image_dir, transform=None, binary=True):\n",
    "        self.data = pd.read_csv(csv_file)\n",
    "        self.image_dir = image_dir\n",
    "        self.transform = transform\n",
    "        self.binary = binary\n",
    "\n",
    "       # Add a 'label' column to the DataFrame\n",
    "        if self.binary:\n",
    "            self.data['label'] = self.data['real_age'].apply(lambda age: 0 if age < 25 else 1)\n",
    "            self.classes = self.data['label'].unique().tolist()\n",
    "        else:\n",
    "            self.data['label'] = self.data['real_age']\n",
    "\n",
    "    def __len__(self):\n",
    "        return len(self.data)\n",
    "\n",
    "    def __getitem__(self, idx):\n",
    "        row = self.data.iloc[idx]\n",
    "        img_path = os.path.join(self.image_dir, row['file_name'])+'_face.jpg'\n",
    "        label = row['label']\n",
    "\n",
    "        # Load image\n",
    "        #image = Image.open(img_path).convert('RGB')  # Load RGB\n",
    "        image = decode_jpeg(read_file(img_path), device=\"cpu\").to('cuda')\n",
    "        image = image.float() / 255.0 \n",
    "        \n",
    "        # Apply transformations\n",
    "        if self.transform:\n",
    "            image = self.transform(image)\n",
    "\n",
    "        return image, label"
   ]
  },
  {
   "cell_type": "markdown",
   "id": "f4a8dcea-4b80-4d6b-bedc-6752163afccb",
   "metadata": {},
   "source": [
    "### Transformations for Data Augmentation and Normalisation"
   ]
  },
  {
   "cell_type": "code",
   "execution_count": 4,
   "id": "b27f925d-4c20-4328-bcb4-fbffb42e41c4",
   "metadata": {},
   "outputs": [],
   "source": [
    "train_transforms = transforms.Compose([\n",
    "    transforms.RandomHorizontalFlip(),\n",
    "    transforms.RandomRotation(10),\n",
    "    transforms.ColorJitter(brightness=0.2, contrast=0.2, saturation=0.2, hue=0.1),\n",
    "    transforms.RandomResizedCrop(224, scale=(0.8,1)),\n",
    "    transforms.GaussianBlur(kernel_size=3.0, sigma=(0.1, 1)),\n",
    "    #transforms.GaussianNoise(mean=0, sigma=0.1, clip=True),\n",
    "    transforms.Normalize(mean=[0.485, 0.456, 0.406], std=[0.229, 0.224, 0.225]),\n",
    "])\n",
    "\n",
    "val_transforms = transforms.Compose([\n",
    "    transforms.Resize((224, 224)),\n",
    "    transforms.Normalize(mean=[0.485, 0.456, 0.406], std=[0.229, 0.224, 0.225]),\n",
    "])\n",
    "\n",
    "test_transforms = transforms.Compose([\n",
    "    transforms.Resize((224, 224)),\n",
    "    transforms.Normalize(mean=[0.485, 0.456, 0.406], std=[0.229, 0.224, 0.225]),\n",
    "])"
   ]
  },
  {
   "cell_type": "markdown",
   "id": "9e582649-1f09-4da9-bd52-49c876b87f1c",
   "metadata": {},
   "source": [
    "### Create Dataset from CSV"
   ]
  },
  {
   "cell_type": "code",
   "execution_count": 5,
   "id": "575d8ff1-89dc-4420-91b9-b4aa9bab9aad",
   "metadata": {},
   "outputs": [],
   "source": [
    "train_csv = 'appa-real-release/cropped_train.csv'\n",
    "val_csv = 'appa-real-release/cropped_valid.csv'\n",
    "test_csv = 'appa-real-release/cropped_test.csv'\n",
    "\n",
    "train_dir = 'appa-real-release/cropped_train'\n",
    "val_dir = 'appa-real-release/cropped_valid'\n",
    "test_dir = 'appa-real-release/cropped_test'\n",
    "\n",
    "\n",
    "# Create datasets\n",
    "train_dataset = CustomDataset(csv_file=train_csv, image_dir=train_dir, transform=train_transforms, binary=True)\n",
    "val_dataset = CustomDataset(csv_file=val_csv, image_dir=val_dir, transform=val_transforms, binary=True)\n",
    "test_dataset = CustomDataset(csv_file=test_csv, image_dir=test_dir, transform=test_transforms, binary=True)"
   ]
  },
  {
   "cell_type": "code",
   "execution_count": 6,
   "id": "add875cc-ebd6-4097-9727-ee21e3033a99",
   "metadata": {},
   "outputs": [
    {
     "name": "stdout",
     "output_type": "stream",
     "text": [
      "Train Dataset Size: 3920\n",
      "Val Dataset Size: 1438\n",
      "Test Dataset Size: 1828\n",
      "Classes: [0, 1]. 0<25yo | 1>=25yo\n"
     ]
    }
   ],
   "source": [
    "print(f\"Train Dataset Size: {len(train_dataset)}\")\n",
    "print(f\"Val Dataset Size: {len(val_dataset)}\")\n",
    "print(f\"Test Dataset Size: {len(test_dataset)}\")\n",
    "\n",
    "print(f\"Classes: {train_dataset.classes}. 0<25yo | 1>=25yo\")\n"
   ]
  },
  {
   "cell_type": "markdown",
   "id": "4bd7dff8-0d39-4e6c-a29c-32e092b45baf",
   "metadata": {},
   "source": [
    "### Stratification"
   ]
  },
  {
   "cell_type": "code",
   "execution_count": 7,
   "id": "fd698ecd-4266-485d-8e98-09f5339a4152",
   "metadata": {},
   "outputs": [],
   "source": [
    "# Compute class weights\n",
    "class_counts = train_dataset.data['label'].value_counts()\n",
    "class_weights = 1.0 / class_counts\n",
    "sample_weights = train_dataset.data['label'].map(class_weights)\n",
    "\n",
    "# Create sampler\n",
    "sampler = WeightedRandomSampler(weights=sample_weights, num_samples=len(sample_weights), replacement=True)"
   ]
  },
  {
   "cell_type": "markdown",
   "id": "3f12831e-fdce-45f9-b279-52a154d5d50d",
   "metadata": {},
   "source": [
    "### Creating Loaders"
   ]
  },
  {
   "cell_type": "code",
   "execution_count": 8,
   "id": "53cb7079-10ca-437f-b249-45743bae9e4a",
   "metadata": {},
   "outputs": [],
   "source": [
    "# Create DataLoaders\n",
    "train_loader = DataLoader(\n",
    "    train_dataset,\n",
    "    batch_size=64,\n",
    "    sampler=sampler\n",
    ")\n",
    "val_loader = DataLoader(\n",
    "    val_dataset,\n",
    "    batch_size=128,\n",
    "    shuffle=False\n",
    ")\n",
    "test_loader = DataLoader(\n",
    "    test_dataset,\n",
    "    batch_size=128,\n",
    "    shuffle=False\n",
    ")"
   ]
  },
  {
   "cell_type": "markdown",
   "id": "70f46795-0ca7-4eeb-ace2-07a1b6a315a7",
   "metadata": {},
   "source": [
    "### Display Batches"
   ]
  },
  {
   "cell_type": "code",
   "execution_count": 9,
   "id": "d9d07f1a-8bd2-4d23-9ac5-df3cf0855080",
   "metadata": {},
   "outputs": [
    {
     "name": "stdout",
     "output_type": "stream",
     "text": [
      "Images batch shape: torch.Size([64, 3, 224, 224])\n",
      "Labels batch shape: torch.Size([64])\n",
      "Image Classes: tensor([0, 0, 1, 1, 1, 1, 0, 1, 1, 1, 1, 1, 0, 1, 1, 0, 1, 1, 1, 0, 0, 1, 1, 1,\n",
      "        1, 1, 1, 1, 1, 1, 0, 0, 1, 1, 1, 1, 0, 0, 0, 0, 1, 1, 0, 0, 0, 0, 0, 0,\n",
      "        0, 0, 0, 0, 0, 1, 1, 0, 1, 1, 1, 1, 0, 1, 0, 1], device='cuda:0')\n",
      "Class 1 Images: 37\n",
      "Class 0 Images: 27\n"
     ]
    },
    {
     "data": {
      "image/png": "[encoded data removed]",
      "text/plain": [
       "<Figure size 640x480 with 1 Axes>"
      ]
     },
     "metadata": {},
     "output_type": "display_data"
    }
   ],
   "source": [
    "import torch\n",
    "import matplotlib.pyplot as plt\n",
    "import torchvision.utils as vutils\n",
    "\n",
    "def imshow(inp, title=None):\n",
    "    \"\"\"Display image for Tensor.\"\"\"\n",
    "    inp = vutils.make_grid(inp)  \n",
    "    inp = inp.permute(1, 2, 0) \n",
    "    \n",
    "    # Convert mean and std to PyTorch tensors\n",
    "    mean = torch.tensor([0.485, 0.456, 0.406], device=inp.device)\n",
    "    std = torch.tensor([0.229, 0.224, 0.225], device=inp.device)\n",
    "    \n",
    "    # Normalize the image\n",
    "    inp = std * inp + mean\n",
    "    inp = torch.clamp(inp, 0, 1)  # Ensure values are within [0, 1]\n",
    "    \n",
    "    # Convert the tensor to a NumPy array for visualization\n",
    "    inp = inp.cpu().numpy()\n",
    "\n",
    "    plt.imshow(inp)\n",
    "    if title is not None:\n",
    "        plt.title(title)\n",
    "    plt.pause(0.001)  # pause a bit so that plots are updated\n",
    "\n",
    "# Get one batch of data\n",
    "data_iter = iter(train_loader)  \n",
    "images, labels = next(data_iter) \n",
    "images, labels = images.to(device), labels.to(device)\n",
    "\n",
    "print(f\"Images batch shape: {images.shape}\")\n",
    "print(f\"Labels batch shape: {labels.shape}\")\n",
    "print(f\"Image Classes: {labels}\")\n",
    "\n",
    "print(f\"Class 1 Images: {torch.sum(labels)}\")\n",
    "print(f\"Class 0 Images: {len(labels) - torch.sum(labels)}\")\n",
    "\n",
    "n = 8\n",
    "\n",
    "# Make a grid from batch\n",
    "out = images[:n]  # Take the first 'n' images\n",
    "\n",
    "imshow(out, title=[x.item() for x in labels[:n]])\n"
   ]
  },
  {
   "cell_type": "markdown",
   "id": "e7290991-22f9-4cd7-afb5-0990099fd112",
   "metadata": {},
   "source": [
    "# Model Training"
   ]
  },
  {
   "cell_type": "markdown",
   "id": "903d24fd-dcbc-4077-aa80-9758e87c3bb7",
   "metadata": {},
   "source": [
    "## Using Pytorch pretrained ResNet model - trained on ImageNet"
   ]
  },
  {
   "cell_type": "code",
   "execution_count": 10,
   "id": "41b979ae-97a7-4614-a0a8-76de9f95c43d",
   "metadata": {},
   "outputs": [
    {
     "name": "stdout",
     "output_type": "stream",
     "text": [
      "Number of features from pre-trained model 2048\n"
     ]
    }
   ],
   "source": [
    "model = models.resnet50(weights=ResNet50_Weights.DEFAULT)\n",
    "num_features = model.fc.in_features \n",
    "print(f\"Number of features from pre-trained model {num_features}\")"
   ]
  },
  {
   "cell_type": "markdown",
   "id": "a020e4dd-c37f-470b-bef9-166fd7cd88f2",
   "metadata": {},
   "source": [
    "### Add a fully connected layer\n",
    "- Freeze weights for existing parameters of pretrained model\n",
    "    - These dont need retrained since we are doing transfer learning\n",
    "- Add a fully connected linear layer\n",
    "    - This maps from the output of the pretrained model (512 for ResNet-18 / 2048 for ResNet-50)\n",
    "    - To the output we want for our classifier (1 - the probability of being a certain class)\n",
    "- The weights in this layer will be trained to fit our data"
   ]
  },
  {
   "cell_type": "code",
   "execution_count": 11,
   "id": "054e0a06-52a4-46b7-a186-38ea99b7426a",
   "metadata": {},
   "outputs": [],
   "source": [
    "# Freeze the layers in the pre-trained model\n",
    "for param in model.parameters():\n",
    "    param.requires_grad = False\n",
    "    \n",
    "# Unfreeze all residual blocks in the fourth layer\n",
    "# For resnet-18 that is 2 blocks\n",
    "for name, param in model.layer4.named_parameters(): \n",
    "    param.requires_grad = True\n",
    "    \n",
    "# Add a fully connected linear layer which transforms from 512 nodes -> 1 node\n",
    "# Note that we dont add a sigmoid activation function here because we use nn.BCEWithLogitsLoss(), which applies sigmoid while calculating loss\n",
    "model.fc = nn.Linear(num_features, 1)\n",
    "\n",
    "for param in model.fc.parameters():\n",
    "    param.requires_grad = True"
   ]
  },
  {
   "cell_type": "markdown",
   "id": "f8baf58b-05fe-4ce0-95cb-ff9a1867c356",
   "metadata": {},
   "source": [
    "### Train and Test functions"
   ]
  },
  {
   "cell_type": "code",
   "execution_count": 12,
   "id": "7631f761-134f-41fb-b300-8cad315dcaee",
   "metadata": {},
   "outputs": [],
   "source": [
    "def train(model, device, train_loader, optimizer, criterion, epoch, writer):\n",
    "\n",
    "    model.train()\n",
    "    epoch_loss = 0 # Keep track of total loss over this epoch\n",
    "    \n",
    "    for batch_idx, (data, target) in enumerate(train_loader):\n",
    "\n",
    "        data, target = data.to(device), target.to(device)\n",
    "\n",
    "        optimizer.zero_grad()\n",
    "        \n",
    "        # Forward Pass\n",
    "        output = model(data)\n",
    "\n",
    "        # Compute Loss\n",
    "        # Squeeze output: (32, 1) -> (32,) to match target shape (32,)\n",
    "        # Convert target to float: Targets are integers 0,1. Loss function expects float\n",
    "        loss = criterion(output.squeeze(), target.float()) \n",
    "        epoch_loss += loss.item()\n",
    "        \n",
    "        # Backwards pass and optimisation\n",
    "        loss.backward()\n",
    "        optimizer.step()\n",
    "        \n",
    "        if batch_idx % 10 == 0:\n",
    "            print('Train Epoch: {} [{}/{} ({:.0f}%)]\\tLoss: {:.6f}'.format(\n",
    "                epoch, batch_idx * len(data), len(train_loader.dataset),\n",
    "                100. * batch_idx / len(train_loader), loss.item()))\n",
    "\n",
    "    writer.add_scalar('Train', epoch_loss / len(train_loader), epoch)"
   ]
  },
  {
   "cell_type": "code",
   "execution_count": 13,
   "id": "1337c5ff-c844-4d73-8116-9acb160e1686",
   "metadata": {},
   "outputs": [],
   "source": [
    "def val(model, device, val_loader, criterion, epoch, writer):\n",
    "    model.eval()  # Set model to evaluation mode\n",
    "    val_loss = 0\n",
    "    correct = 0\n",
    "    \n",
    "    with torch.no_grad():\n",
    "        for data, target in val_loader:\n",
    "            data, target = data.to(device), target.to(device)\n",
    "            output = model(data)\n",
    "            \n",
    "            # Compute loss\n",
    "            val_loss += criterion(output.squeeze(), target.float()).item()  # Sum up batch loss\n",
    "            \n",
    "            # # Apply sigmoid to logits to get probabilities\n",
    "            output = torch.sigmoid(output)\n",
    "            \n",
    "            # Get predictions by thresholding at 0.5\n",
    "            pred = (output > 0.5).float()  # Convert probabilities to 0 or 1\n",
    "            \n",
    "            # Update correct count (compare predictions to target)\n",
    "            correct += pred.eq(target.view_as(pred)).sum().item()\n",
    "\n",
    "    # Average the val loss over the entire dataset\n",
    "    val_loss /= len(val_loader)\n",
    "    \n",
    "    # Print results\n",
    "    print('\\nValidation set: Average loss: {:.4f}, Accuracy: {}/{} ({:.0f}%)\\n'.format(\n",
    "        val_loss, correct, len(val_loader.dataset),\n",
    "        100. * correct / len(val_loader.dataset)))\n",
    "    \n",
    "    writer.add_scalars('Val', {\n",
    "        'Loss': val_loss,\n",
    "        'Accuracy': correct / len(val_loader.dataset)\n",
    "    }, epoch)\n",
    "    return val_loss"
   ]
  },
  {
   "cell_type": "code",
   "execution_count": 14,
   "id": "bd3b3b03-2e6f-45b3-8d03-324b25c7c125",
   "metadata": {},
   "outputs": [],
   "source": [
    "%reload_ext tensorboard"
   ]
  },
  {
   "cell_type": "code",
   "execution_count": null,
   "id": "b2499e95-bab5-4664-b742-71e7fe09c527",
   "metadata": {},
   "outputs": [
    {
     "name": "stdout",
     "output_type": "stream",
     "text": [
      "Train Epoch: 1 [0/3920 (0%)]\tLoss: 0.700481\n",
      "Train Epoch: 1 [640/3920 (16%)]\tLoss: 0.628890\n",
      "Train Epoch: 1 [1280/3920 (32%)]\tLoss: 0.607509\n",
      "Train Epoch: 1 [1920/3920 (48%)]\tLoss: 0.647649\n",
      "Train Epoch: 1 [2560/3920 (65%)]\tLoss: 0.606211\n",
      "Train Epoch: 1 [3200/3920 (81%)]\tLoss: 0.609442\n",
      "Train Epoch: 1 [3840/3920 (97%)]\tLoss: 0.631525\n",
      "\n",
      "Validation set: Average loss: 3.3397, Accuracy: 551/1438 (38%)\n",
      "\n",
      "Train Epoch: 2 [0/3920 (0%)]\tLoss: 0.592520\n",
      "Train Epoch: 2 [640/3920 (16%)]\tLoss: 0.568366\n",
      "Train Epoch: 2 [1280/3920 (32%)]\tLoss: 0.576396\n",
      "Train Epoch: 2 [1920/3920 (48%)]\tLoss: 0.598690\n",
      "Train Epoch: 2 [2560/3920 (65%)]\tLoss: 0.533744\n",
      "Train Epoch: 2 [3200/3920 (81%)]\tLoss: 0.677916\n",
      "Train Epoch: 2 [3840/3920 (97%)]\tLoss: 0.598190\n",
      "\n",
      "Validation set: Average loss: 2.3139, Accuracy: 565/1438 (39%)\n",
      "\n",
      "Train Epoch: 3 [0/3920 (0%)]\tLoss: 0.509287\n",
      "Train Epoch: 3 [640/3920 (16%)]\tLoss: 0.479376\n",
      "Train Epoch: 3 [1280/3920 (32%)]\tLoss: 0.613642\n",
      "Train Epoch: 3 [1920/3920 (48%)]\tLoss: 0.728623\n",
      "Train Epoch: 3 [2560/3920 (65%)]\tLoss: 0.565455\n",
      "Train Epoch: 3 [3200/3920 (81%)]\tLoss: 0.614467\n",
      "Train Epoch: 3 [3840/3920 (97%)]\tLoss: 0.534594\n",
      "\n",
      "Validation set: Average loss: 1.6301, Accuracy: 712/1438 (50%)\n",
      "\n",
      "Train Epoch: 4 [0/3920 (0%)]\tLoss: 0.447886\n",
      "Train Epoch: 4 [640/3920 (16%)]\tLoss: 0.517048\n",
      "Train Epoch: 4 [1280/3920 (32%)]\tLoss: 0.569494\n",
      "Train Epoch: 4 [1920/3920 (48%)]\tLoss: 0.509778\n",
      "Train Epoch: 4 [2560/3920 (65%)]\tLoss: 0.506009\n",
      "Train Epoch: 4 [3200/3920 (81%)]\tLoss: 0.457180\n",
      "Train Epoch: 4 [3840/3920 (97%)]\tLoss: 0.499842\n",
      "\n",
      "Validation set: Average loss: 3.8820, Accuracy: 622/1438 (43%)\n",
      "\n",
      "Train Epoch: 5 [0/3920 (0%)]\tLoss: 0.527384\n",
      "Train Epoch: 5 [640/3920 (16%)]\tLoss: 0.532013\n",
      "Train Epoch: 5 [1280/3920 (32%)]\tLoss: 0.512622\n"
     ]
    }
   ],
   "source": [
    "model = model.to(device)\n",
    "criterion = nn.BCEWithLogitsLoss()\n",
    "optimizer = optim.Adam(model.parameters(), lr=0.001)\n",
    "scheduler = optim.lr_scheduler.ReduceLROnPlateau(optimizer, mode='min', patience=2, factor=0.1)\n",
    "\n",
    "# optimizer = optim.SGD(model.parameters(), lr=0.001)\n",
    "\n",
    "now = datetime.now()\n",
    "log_dir = \"./logs/\" + now.strftime(\"%Y%m%d-%H%M%S\") + \"/\"\n",
    "writer = SummaryWriter(log_dir=log_dir, comment='Training Logs')\n",
    "\n",
    "for epoch in range(1, 100 + 1):\n",
    "    train(model, device, train_loader, optimizer, criterion, epoch, writer)\n",
    "    val_loss = val(model, device, val_loader, criterion, epoch, writer)\n",
    "    scheduler.step(val_loss)\n",
    "\n",
    "writer.close()"
   ]
  },
  {
   "cell_type": "code",
   "execution_count": null,
   "id": "cb019087-fd7a-46e8-a8f3-511153f051cf",
   "metadata": {},
   "outputs": [],
   "source": [
    "%tensorboard --logdir=./logs/ --host localhost --port 6002"
   ]
  },
  {
   "cell_type": "markdown",
   "id": "862c658c-f57b-4874-9c31-8f8ccab8002f",
   "metadata": {},
   "source": [
    "# Visualise Predictions"
   ]
  },
  {
   "cell_type": "code",
   "execution_count": null,
   "id": "73acfd96-0f42-4fc5-a740-1b8b3b819405",
   "metadata": {},
   "outputs": [],
   "source": [
    "def visualize_model(model, num_images=6, show_fails=False):\n",
    "    was_training = model.training\n",
    "    model.eval()\n",
    "    images_so_far = 0\n",
    "    fig = plt.figure()\n",
    "\n",
    "    with torch.no_grad():\n",
    "        for inputs, labels in val_loader:\n",
    "            inputs = inputs.to(device)\n",
    "            labels = labels.to(device)\n",
    "\n",
    "            output = model(inputs)\n",
    "            \n",
    "            # # Apply sigmoid to logits to get probabilities\n",
    "            output = torch.sigmoid(output)\n",
    "            \n",
    "            # Get predictions by thresholding at 0.5\n",
    "            pred = (output > 0.5).float()  # Convert probabilities to 0 or 1\n",
    "\n",
    "            for j in range(inputs.size()[0]):\n",
    "                # Check if prediction matches the label\n",
    "                is_misclassified = pred[j].item() != labels[j].item()\n",
    "\n",
    "                # Skip correctly classified cases if show_fails is True\n",
    "                if show_fails and not is_misclassified:\n",
    "                    continue\n",
    "                    \n",
    "                images_so_far += 1\n",
    "                ax = plt.subplot(num_images//2, 2, images_so_far)\n",
    "                ax.axis('off')\n",
    "                ax.set_title(f'Predicted: {pred[j].item()}. Ground Truth: {labels[j].item()}.')\n",
    "                print(f'Confidence / Model Output: {output[j].item():.3f}')\n",
    "                imshow(inputs.cpu().data[j])\n",
    "\n",
    "                if images_so_far == num_images:\n",
    "                    model.train(mode=was_training)\n",
    "                    return\n",
    "        model.train(mode=was_training)"
   ]
  },
  {
   "cell_type": "code",
   "execution_count": null,
   "id": "6198bb3a-82e8-4073-bfe7-b4c0ef7dcf9a",
   "metadata": {},
   "outputs": [],
   "source": [
    "print('0/1 - High confidence, ~0.5 - Low confidence')\n",
    "print('='*50)\n",
    "visualize_model(model, num_images=12, show_fails=False)"
   ]
  },
  {
   "cell_type": "code",
   "execution_count": null,
   "id": "6c809171-9813-4ecd-9ebd-cc1394f945dc",
   "metadata": {},
   "outputs": [],
   "source": []
  }
 ],
 "metadata": {
  "kernelspec": {
   "display_name": "Level 4 Project Env",
   "language": "python",
   "name": "l4project"
  },
  "language_info": {
   "codemirror_mode": {
    "name": "ipython",
    "version": 3
   },
   "file_extension": ".py",
   "mimetype": "text/x-python",
   "name": "python",
   "nbconvert_exporter": "python",
   "pygments_lexer": "ipython3",
   "version": "3.10.6"
  }
 },
 "nbformat": 4,
 "nbformat_minor": 5
}
