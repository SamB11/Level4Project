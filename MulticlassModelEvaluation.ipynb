{
 "cells": [
  {
   "cell_type": "markdown",
   "id": "d6775a6c-41e9-477b-b263-a1fa3afafd2e",
   "metadata": {},
   "source": [
    "# Load and Evaluate a trained model"
   ]
  },
  {
   "cell_type": "code",
   "execution_count": 1,
   "id": "4f9bfec8-4a95-46fc-826e-a48d4114fafe",
   "metadata": {},
   "outputs": [
    {
     "data": {
      "text/plain": [
       "'cuda'"
      ]
     },
     "execution_count": 1,
     "metadata": {},
     "output_type": "execute_result"
    }
   ],
   "source": [
    "import torch\n",
    "import torch.nn as nn\n",
    "import torch.optim as optim\n",
    "import torch.nn.functional as F\n",
    "from torch.utils.data import Dataset, DataLoader, WeightedRandomSampler\n",
    "from torchvision import utils\n",
    "from torchvision.transforms import v2 as transforms\n",
    "from torchvision import models\n",
    "from torchvision.models import ResNet18_Weights, ResNet50_Weights\n",
    "from PIL import Image\n",
    "import pandas as pd\n",
    "import os\n",
    "from matplotlib import pyplot as plt\n",
    "import numpy as np\n",
    "from torch.utils.tensorboard import SummaryWriter\n",
    "from datetime import datetime\n",
    "from torchvision.io.image import decode_jpeg, read_file\n",
    "import matplotlib.pyplot as plt\n",
    "import torchvision.utils as vutils\n",
    "from sklearn.metrics import precision_score, recall_score, f1_score, roc_curve, auc\n",
    "from sklearn.metrics import confusion_matrix as sk_confusion_matrix \n",
    "from IPython.display import display\n",
    "\n",
    "device = \"cuda\" if torch.cuda.is_available() else \"cpu\"\n",
    "device"
   ]
  },
  {
   "cell_type": "markdown",
   "id": "f8f10030-774d-4752-8ed7-ed26248b62df",
   "metadata": {},
   "source": [
    "## Data Loading"
   ]
  },
  {
   "cell_type": "code",
   "execution_count": 2,
   "id": "f01b0cb7-7366-40bb-85ff-f86be78bfe29",
   "metadata": {},
   "outputs": [],
   "source": [
    "class CustomDataset(Dataset):\n",
    "    def __init__(self, csv_file, image_dir, transform=None, classification=True):\n",
    "        self.data = pd.read_csv(csv_file)\n",
    "        self.image_dir = image_dir\n",
    "        self.transform = transform\n",
    "        self.classification = classification\n",
    "        bins = [18, 28, 40]\n",
    "       # Add a 'label' column to the DataFrame\n",
    "        if self.classification:\n",
    "            self.data['label'] = self.data['real_age'].apply(\n",
    "                lambda age: 0 if age <= bins[0] else \n",
    "                            1 if age <= bins[1] else \n",
    "                            2 if age <= bins[2] else \n",
    "                            3\n",
    "            )\n",
    "\n",
    "            self.classes = self.data['label'].unique().tolist()\n",
    "        else:\n",
    "            self.data['label'] = self.data['real_age']\n",
    "\n",
    "    def __len__(self):\n",
    "        return len(self.data)\n",
    "\n",
    "    def __getitem__(self, idx):\n",
    "        row = self.data.iloc[idx]\n",
    "        img_path = os.path.join(self.image_dir, row['file_name'])+'_face.jpg'\n",
    "        label = row['label']\n",
    "\n",
    "        # Load image\n",
    "        #image = Image.open(img_path).convert('RGB')  # Load RGB\n",
    "        image = decode_jpeg(read_file(img_path), device=\"cpu\").to(device)\n",
    "        image = image.float() / image.max() # 255.0 # try normalising by max value in image\n",
    "        # Apply transformations\n",
    "        if self.transform:\n",
    "            image = self.transform(image)\n",
    "\n",
    "        return image, label"
   ]
  },
  {
   "cell_type": "code",
   "execution_count": 3,
   "id": "51947f25-0810-4a8f-80f1-fb8da1db711c",
   "metadata": {},
   "outputs": [],
   "source": [
    "train_transforms = transforms.Compose([\n",
    "    transforms.RandomHorizontalFlip(),\n",
    "    transforms.RandomRotation(10),\n",
    "    #transforms.ColorJitter(brightness=0.2, contrast=0.2, saturation=0.2, hue=0.1),\n",
    "    transforms.RandomResizedCrop(224, scale=(0.8,1)),\n",
    "    transforms.GaussianBlur(kernel_size=3.0, sigma=(0.1, 1)),\n",
    "    transforms.Normalize(mean=[0.485, 0.456, 0.406], std=[0.229, 0.224, 0.225]),\n",
    "])\n",
    "\n",
    "val_transforms = transforms.Compose([\n",
    "    transforms.Resize((224, 224)),\n",
    "    transforms.Normalize(mean=[0.485, 0.456, 0.406], std=[0.229, 0.224, 0.225]),\n",
    "])\n",
    "\n",
    "test_transforms = transforms.Compose([\n",
    "    transforms.Resize((224, 224)),\n",
    "    transforms.Normalize(mean=[0.485, 0.456, 0.406], std=[0.229, 0.224, 0.225]),\n",
    "])"
   ]
  },
  {
   "cell_type": "code",
   "execution_count": 4,
   "id": "6e23d1ee-d16e-408b-b11d-d3e7bc324278",
   "metadata": {},
   "outputs": [],
   "source": [
    "train_csv = 'appa-real-release/cropped_train.csv'\n",
    "val_csv = 'appa-real-release/cropped_valid.csv'\n",
    "test_csv = 'appa-real-release/cropped_test.csv'\n",
    "\n",
    "train_dir = 'appa-real-release/cropped_train'\n",
    "val_dir = 'appa-real-release/cropped_valid'\n",
    "test_dir = 'appa-real-release/cropped_test'\n",
    "\n",
    "\n",
    "# Create datasets\n",
    "train_dataset = CustomDataset(csv_file=train_csv, image_dir=train_dir, transform=train_transforms)\n",
    "val_dataset = CustomDataset(csv_file=val_csv, image_dir=val_dir, transform=val_transforms)\n",
    "test_dataset = CustomDataset(csv_file=test_csv, image_dir=test_dir, transform=test_transforms)"
   ]
  },
  {
   "cell_type": "code",
   "execution_count": 5,
   "id": "c8a3c48f-1239-4fa1-8699-c983a516a7c4",
   "metadata": {},
   "outputs": [
    {
     "name": "stdout",
     "output_type": "stream",
     "text": [
      "Train Dataset Size: 3920\n",
      "Val Dataset Size: 1438\n",
      "Test Dataset Size: 1828\n",
      "Classes: [0, 3, 1, 2].\n"
     ]
    }
   ],
   "source": [
    "print(f\"Train Dataset Size: {len(train_dataset)}\")\n",
    "print(f\"Val Dataset Size: {len(val_dataset)}\")\n",
    "print(f\"Test Dataset Size: {len(test_dataset)}\")\n",
    "\n",
    "print(f\"Classes: {train_dataset.classes}.\")"
   ]
  },
  {
   "cell_type": "code",
   "execution_count": 6,
   "id": "3c8df35a-2fff-48f6-906b-755419705398",
   "metadata": {},
   "outputs": [
    {
     "name": "stdout",
     "output_type": "stream",
     "text": [
      "Class counts: \n",
      "label\n",
      "1    1167\n",
      "2     971\n",
      "3     934\n",
      "0     848\n",
      "Name: count, dtype: int64\n",
      "\n",
      "Class weights: \n",
      "label\n",
      "1    0.000857\n",
      "2    0.001030\n",
      "3    0.001071\n",
      "0    0.001179\n",
      "Name: count, dtype: float64\n",
      "\n",
      "Sample weights: \n",
      "0       0.001179\n",
      "1       0.001179\n",
      "2       0.001071\n",
      "3       0.001071\n",
      "4       0.001179\n",
      "          ...   \n",
      "3915    0.001071\n",
      "3916    0.001071\n",
      "3917    0.001030\n",
      "3918    0.000857\n",
      "3919    0.000857\n",
      "Name: label, Length: 3920, dtype: float64\n",
      "\n"
     ]
    }
   ],
   "source": [
    "# Compute class weights\n",
    "class_counts = train_dataset.data['label'].value_counts()\n",
    "print(f\"Class counts: \\n{class_counts}\\n\")\n",
    "class_weights = 1.0 / class_counts\n",
    "print(f\"Class weights: \\n{class_weights}\\n\")\n",
    "sample_weights = train_dataset.data['label'].map(class_weights)\n",
    "print(f\"Sample weights: \\n{sample_weights}\\n\")\n",
    "\n",
    "# Create sampler\n",
    "sampler = WeightedRandomSampler(weights=sample_weights, num_samples=len(sample_weights), replacement=True)"
   ]
  },
  {
   "cell_type": "code",
   "execution_count": 7,
   "id": "995bf68d-09a2-4f7b-a682-522c883671f6",
   "metadata": {},
   "outputs": [],
   "source": [
    "# Create DataLoaders\n",
    "train_loader = DataLoader(\n",
    "    train_dataset,\n",
    "    batch_size=128,\n",
    "    sampler=sampler\n",
    ")\n",
    "val_loader = DataLoader(\n",
    "    val_dataset,\n",
    "    batch_size=128,\n",
    "    shuffle=False\n",
    ")\n",
    "test_loader = DataLoader(\n",
    "    test_dataset,\n",
    "    batch_size=128,\n",
    "    shuffle=False\n",
    ")"
   ]
  },
  {
   "cell_type": "markdown",
   "id": "b1b57980-08ff-4f85-84b5-eb34aa479fff",
   "metadata": {},
   "source": [
    "## Load Model for Evaluation"
   ]
  },
  {
   "cell_type": "code",
   "execution_count": 20,
   "id": "8122f517-6580-4fe2-a2fc-3edd368ce851",
   "metadata": {},
   "outputs": [
    {
     "name": "stdout",
     "output_type": "stream",
     "text": [
      "Number of features from pre-trained model 512\n"
     ]
    }
   ],
   "source": [
    "# Change to apropriate model\n",
    "model = models.resnet18(weights=ResNet18_Weights.DEFAULT)\n",
    "num_features = model.fc.in_features \n",
    "print(f\"Number of features from pre-trained model {num_features}\")\n",
    "\n",
    "if num_features == 512:\n",
    "    resnet_arch = 'ResNet18'\n",
    "elif num_features ==2048:\n",
    "    resnet_arch = 'ResNet50'\n",
    "else:\n",
    "    resnet_arch = 'other'\n",
    "    \n",
    "# Add a fully connected linear layer which transforms from 512 nodes -> 1 node\n",
    "# Note that we dont add a sigmoid activation function here because we use nn.BCEWithLogitsLoss(), which applies sigmoid while calculating loss\n",
    "model.fc = nn.Linear(num_features, 4)\n",
    "\n",
    "for param in model.fc.parameters():\n",
    "    param.requires_grad = True"
   ]
  },
  {
   "cell_type": "code",
   "execution_count": 21,
   "id": "0e80f792-ce51-45ff-acb6-243cead0e6c2",
   "metadata": {},
   "outputs": [
    {
     "name": "stdout",
     "output_type": "stream",
     "text": [
      "Number of Learnable/Learned Parameters:  8395780\n"
     ]
    }
   ],
   "source": [
    "print(f\"Number of Learnable/Learned Parameters:  {sum([param.numel() for param in model.layer4.parameters() if param.requires_grad==True]) + sum([param.numel() for param in model.fc.parameters()])}\")"
   ]
  },
  {
   "cell_type": "code",
   "execution_count": 24,
   "id": "75d2276e-a13e-4208-a7f5-8136a6fdad0d",
   "metadata": {},
   "outputs": [],
   "source": [
    "saved_model_path = './models/multiclass/ResNet18_GradualUnfreeze_2025-02-06_v1.pth'\n",
    "model.load_state_dict(torch.load(saved_model_path, weights_only=True))\n",
    "\n",
    "# If you saved the model on a GPU and are loading it on a CPU, you can specify:\n",
    "# model.load_state_dict(torch.load(saved_model_path, map_location=torch.device('cpu')))\n",
    "\n",
    "# Move the model to the appropriate device\n",
    "device = torch.device('cuda' if torch.cuda.is_available() else 'cpu')\n",
    "model = model.to(device)"
   ]
  },
  {
   "cell_type": "markdown",
   "id": "9c91ad7a-55ba-4a5e-b7e7-dd7eb5176b7f",
   "metadata": {},
   "source": [
    "## Evaluate Model"
   ]
  },
  {
   "cell_type": "code",
   "execution_count": 11,
   "id": "c56272ae-6ac6-442f-b837-ebc8584db9a1",
   "metadata": {
    "scrolled": true
   },
   "outputs": [
    {
     "data": {
      "text/plain": [
       "Reusing TensorBoard on port 6011 (pid 13544), started 9 days, 19:16:41 ago. (Use '!kill 13544' to kill it.)"
      ]
     },
     "metadata": {},
     "output_type": "display_data"
    },
    {
     "data": {
      "text/html": [
       "\n",
       "      <iframe id=\"tensorboard-frame-ed44ab822f5699a\" width=\"100%\" height=\"800\" frameborder=\"0\">\n",
       "      </iframe>\n",
       "      <script>\n",
       "        (function() {\n",
       "          const frame = document.getElementById(\"tensorboard-frame-ed44ab822f5699a\");\n",
       "          const url = new URL(\"/\", window.location);\n",
       "          const port = 6011;\n",
       "          if (port) {\n",
       "            url.port = port;\n",
       "          }\n",
       "          frame.src = url;\n",
       "        })();\n",
       "      </script>\n",
       "    "
      ],
      "text/plain": [
       "<IPython.core.display.HTML object>"
      ]
     },
     "metadata": {},
     "output_type": "display_data"
    }
   ],
   "source": [
    "%reload_ext tensorboard\n",
    "%tensorboard --logdir=./logs/ --host localhost --port 6011"
   ]
  },
  {
   "cell_type": "markdown",
   "id": "1aeab3c0-8ae3-42a0-a2bb-2ad4199fe884",
   "metadata": {},
   "source": [
    "### Test Metrics\n",
    "- Loss, Accuracy, Precision, Recall, F1-Score"
   ]
  },
  {
   "cell_type": "code",
   "execution_count": 25,
   "id": "1cb78b3a-8ffe-4bad-85c6-7cd100ad9a27",
   "metadata": {},
   "outputs": [],
   "source": [
    "def test(model, device, test_loader, criterion, num_classes=4):\n",
    "    model.eval()  # Set model to evaluation mode\n",
    "    \n",
    "    test_loss = 0\n",
    "    correct = 0\n",
    "    all_targets = []\n",
    "    all_preds = []\n",
    "    all_probs = []\n",
    "    \n",
    "    with torch.no_grad():\n",
    "        for data, target in test_loader:\n",
    "            data, target = data.to(device), target.to(device)\n",
    "            \n",
    "            # Compute loss\n",
    "            output = model(data)  # Output is logits       \n",
    "            test_loss += criterion(output, target).item()  # Sum up batch loss\n",
    "            \n",
    "            # Get probabilities using softmax for multiclass\n",
    "            probs = torch.softmax(output, dim=1)\n",
    "            \n",
    "            # Get predictions (class with highest probability)\n",
    "            pred = torch.argmax(probs, dim=1)\n",
    "            \n",
    "            # Convert to numpy for sklearn metrics\n",
    "            all_preds.extend(pred.cpu().numpy())\n",
    "            all_targets.extend(target.cpu().numpy())\n",
    "            all_probs.extend(probs.cpu().numpy())\n",
    "            \n",
    "            # Update correct count\n",
    "            correct += pred.eq(target).sum().item()\n",
    "    \n",
    "    # Average the test loss over the entire dataset\n",
    "    test_loss /= len(test_loader)\n",
    "    test_accuracy = 100. * correct / len(test_loader.dataset)\n",
    "    \n",
    "    # Compute multiclass metrics\n",
    "    precision = precision_score(all_targets, all_preds, average='macro')\n",
    "    recall = recall_score(all_targets, all_preds, average='macro')\n",
    "    f1 = f1_score(all_targets, all_preds, average='macro')\n",
    "    \n",
    "    # Confusion matrix\n",
    "    conf_matrix = sk_confusion_matrix(all_targets, all_preds)\n",
    "    \n",
    "    return (\n",
    "        test_loss, \n",
    "        test_accuracy, \n",
    "        precision, \n",
    "        recall, \n",
    "        f1, \n",
    "        conf_matrix, \n",
    "    )"
   ]
  },
  {
   "cell_type": "code",
   "execution_count": 26,
   "id": "9a9a73d2-ce9b-474a-bd46-375433b7ff38",
   "metadata": {
    "scrolled": true
   },
   "outputs": [
    {
     "name": "stdout",
     "output_type": "stream",
     "text": [
      "Loss: 1.4260, Accuracy: 58.2754, Precision: 0.5770, Recall: 0.5880, F1-Score: 0.5770\n"
     ]
    },
    {
     "data": {
      "text/html": [
       "<div>\n",
       "<style scoped>\n",
       "    .dataframe tbody tr th:only-of-type {\n",
       "        vertical-align: middle;\n",
       "    }\n",
       "\n",
       "    .dataframe tbody tr th {\n",
       "        vertical-align: top;\n",
       "    }\n",
       "\n",
       "    .dataframe thead th {\n",
       "        text-align: right;\n",
       "    }\n",
       "</style>\n",
       "<table border=\"1\" class=\"dataframe\">\n",
       "  <thead>\n",
       "    <tr style=\"text-align: right;\">\n",
       "      <th></th>\n",
       "      <th>Pred 0</th>\n",
       "      <th>Pred 1</th>\n",
       "      <th>Pred 2</th>\n",
       "      <th>Pred 3</th>\n",
       "    </tr>\n",
       "  </thead>\n",
       "  <tbody>\n",
       "    <tr>\n",
       "      <th>Act 0</th>\n",
       "      <td>0.73</td>\n",
       "      <td>0.19</td>\n",
       "      <td>0.04</td>\n",
       "      <td>0.04</td>\n",
       "    </tr>\n",
       "    <tr>\n",
       "      <th>Act 1</th>\n",
       "      <td>0.23</td>\n",
       "      <td>0.57</td>\n",
       "      <td>0.15</td>\n",
       "      <td>0.05</td>\n",
       "    </tr>\n",
       "    <tr>\n",
       "      <th>Act 2</th>\n",
       "      <td>0.09</td>\n",
       "      <td>0.36</td>\n",
       "      <td>0.32</td>\n",
       "      <td>0.23</td>\n",
       "    </tr>\n",
       "    <tr>\n",
       "      <th>Act 3</th>\n",
       "      <td>0.05</td>\n",
       "      <td>0.09</td>\n",
       "      <td>0.13</td>\n",
       "      <td>0.73</td>\n",
       "    </tr>\n",
       "  </tbody>\n",
       "</table>\n",
       "</div>"
      ],
      "text/plain": [
       "       Pred 0  Pred 1  Pred 2  Pred 3\n",
       "Act 0    0.73    0.19    0.04    0.04\n",
       "Act 1    0.23    0.57    0.15    0.05\n",
       "Act 2    0.09    0.36    0.32    0.23\n",
       "Act 3    0.05    0.09    0.13    0.73"
      ]
     },
     "metadata": {},
     "output_type": "display_data"
    }
   ],
   "source": [
    "criterion = nn.CrossEntropyLoss()\n",
    "\n",
    "loss, accuracy, precision, recall, f1, conf_matrix = test(model, device, val_loader, criterion)\n",
    "print(f\"Loss: {loss:.4f}, Accuracy: {accuracy:.4f}, Precision: {precision:.4f}, Recall: {recall:.4f}, F1-Score: {f1:.4f}\")\n",
    "\n",
    "# Normalise by total (show % of all predictions)\n",
    "#conf_matrix_normalized = conf_matrix.astype('float') / conf_matrix.sum()\n",
    "# Normalise by row\n",
    "conf_matrix_normalized = conf_matrix.astype('float') / conf_matrix.sum(axis=1)[:, np.newaxis]\n",
    "\n",
    "conf_matrix_df = pd.DataFrame(\n",
    "    conf_matrix_normalized,\n",
    "    columns=[f'Pred {i}' for i in range(4)],\n",
    "    index=[f'Act {i}' for i in range(4)]\n",
    ")\n",
    "display(conf_matrix_df.round(2))"
   ]
  },
  {
   "cell_type": "markdown",
   "id": "a5a6d622-8f29-47fa-9df0-cd556014986a",
   "metadata": {},
   "source": [
    "### Test Predictions with Confidence"
   ]
  },
  {
   "cell_type": "code",
   "execution_count": 72,
   "id": "2a090bde-2516-4ad3-b6c2-7ff4714b41f0",
   "metadata": {},
   "outputs": [],
   "source": [
    "def visualize_model(model, num_images=6, show_fails=False, high_conf=False):\n",
    "    model.eval()\n",
    "    images_so_far = 0\n",
    "    fig = plt.figure()\n",
    "\n",
    "    with torch.no_grad():\n",
    "        for inputs, labels in test_loader:\n",
    "            inputs = inputs.to(device)\n",
    "            labels = labels.to(device)\n",
    "\n",
    "            output = model(inputs)\n",
    "            \n",
    "            # # Apply sigmoid to logits to get probabilities\n",
    "            output = torch.sigmoid(output)\n",
    "            \n",
    "            # Get probabilities using softmax\n",
    "            probs = torch.softmax(output, dim=1)\n",
    "            \n",
    "            # Get predictions (class with highest probability)\n",
    "            pred = torch.argmax(probs, dim=1)\n",
    "\n",
    "            for j in range(inputs.size()[0]):\n",
    "                # Check if prediction matches the label\n",
    "                is_misclassified = pred[j].item() != labels[j].item()\n",
    "\n",
    "                # Skip correctly classified cases if show_fails is True\n",
    "                if show_fails and not is_misclassified:\n",
    "                    continue\n",
    "\n",
    "                # Get confidence in predicted class\n",
    "                confidence = probs[j][pred[j].item()].item()\n",
    "                # Skip predictions in the range 0.25-0.75\n",
    "                #if high_conf and not (confidence <0.3 or confidence>0.7):\n",
    "                #    continue\n",
    "                    \n",
    "                images_so_far += 1\n",
    "                ax = plt.subplot(num_images//2, 2, images_so_far)\n",
    "                ax.axis('off')\n",
    "                ax.set_title(f'Predicted: {pred[j].item()}. Ground Truth: {labels[j].item()}.')\n",
    "                print(f'Top-1 Probability: {confidence:.3f}')\n",
    "                print(f'Class probabilities: {probs[j]}')\n",
    "                imshow(inputs.cpu().data[j])\n",
    "\n",
    "                if images_so_far == num_images:\n",
    "                    return\n",
    "\n",
    "def imshow(inp, title=None):\n",
    "    \"\"\"Display image for Tensor.\"\"\"\n",
    "    inp = vutils.make_grid(inp)  \n",
    "    inp = inp.permute(1, 2, 0) \n",
    "    \n",
    "    # Convert mean and std to PyTorch tensors\n",
    "    mean = torch.tensor([0.485, 0.456, 0.406], device=inp.device)\n",
    "    std = torch.tensor([0.229, 0.224, 0.225], device=inp.device)\n",
    "    \n",
    "    # Normalize the image\n",
    "    inp = std * inp + mean\n",
    "    inp = torch.clamp(inp, 0, 1)  # Ensure values are within [0, 1]\n",
    "    \n",
    "    # Convert the tensor to a NumPy array for visualization\n",
    "    inp = inp.cpu().numpy()\n",
    "\n",
    "    plt.imshow(inp)\n",
    "    if title is not None:\n",
    "        plt.title(title)\n",
    "    plt.pause(0.001)  # pause a bit so that plots are updated"
   ]
  },
  {
   "cell_type": "code",
   "execution_count": 76,
   "id": "25023fd4-16f7-48bd-94ad-f3089747d16a",
   "metadata": {},
   "outputs": [
    {
     "name": "stdout",
     "output_type": "stream",
     "text": [
      "0/1 - High confidence, ~0.5 - Low confidence\n",
      "==================================================\n",
      "Top-1 Probability: 0.407\n",
      "Class probabilities: tensor([0.1523, 0.1539, 0.2864, 0.4074], device='cuda:0')\n"
     ]
    },
    {
     "data": {
      "image/png": "[encoded data removed]",
      "text/plain": [
       "<Figure size 640x480 with 1 Axes>"
      ]
     },
     "metadata": {},
     "output_type": "display_data"
    },
    {
     "name": "stdout",
     "output_type": "stream",
     "text": [
      "Top-1 Probability: 0.296\n",
      "Class probabilities: tensor([0.2958, 0.2646, 0.2688, 0.1708], device='cuda:0')\n"
     ]
    },
    {
     "data": {
      "image/png": "[encoded data removed]",
      "text/plain": [
       "<Figure size 640x480 with 1 Axes>"
      ]
     },
     "metadata": {},
     "output_type": "display_data"
    },
    {
     "name": "stdout",
     "output_type": "stream",
     "text": [
      "Top-1 Probability: 0.365\n",
      "Class probabilities: tensor([0.2515, 0.3653, 0.2317, 0.1516], device='cuda:0')\n"
     ]
    },
    {
     "data": {
      "image/png": "[encoded data removed]",
      "text/plain": [
       "<Figure size 640x480 with 1 Axes>"
      ]
     },
     "metadata": {},
     "output_type": "display_data"
    },
    {
     "name": "stdout",
     "output_type": "stream",
     "text": [
      "Top-1 Probability: 0.378\n",
      "Class probabilities: tensor([0.1570, 0.1854, 0.2798, 0.3778], device='cuda:0')\n"
     ]
    },
    {
     "data": {
      "image/png": "[encoded data removed]",
      "text/plain": [
       "<Figure size 640x480 with 1 Axes>"
      ]
     },
     "metadata": {},
     "output_type": "display_data"
    },
    {
     "name": "stdout",
     "output_type": "stream",
     "text": [
      "Top-1 Probability: 0.366\n",
      "Class probabilities: tensor([0.1491, 0.2098, 0.2753, 0.3658], device='cuda:0')\n"
     ]
    },
    {
     "data": {
      "image/png": "[encoded data removed]",
      "text/plain": [
       "<Figure size 640x480 with 1 Axes>"
      ]
     },
     "metadata": {},
     "output_type": "display_data"
    },
    {
     "name": "stdout",
     "output_type": "stream",
     "text": [
      "Top-1 Probability: 0.369\n",
      "Class probabilities: tensor([0.1922, 0.3691, 0.2616, 0.1771], device='cuda:0')\n"
     ]
    },
    {
     "data": {
      "image/png": "[encoded data removed]",
      "text/plain": [
       "<Figure size 640x480 with 1 Axes>"
      ]
     },
     "metadata": {},
     "output_type": "display_data"
    },
    {
     "name": "stdout",
     "output_type": "stream",
     "text": [
      "Top-1 Probability: 0.355\n",
      "Class probabilities: tensor([0.1852, 0.3549, 0.3184, 0.1415], device='cuda:0')\n"
     ]
    },
    {
     "data": {
      "image/png": "[encoded data removed]",
      "text/plain": [
       "<Figure size 640x480 with 1 Axes>"
      ]
     },
     "metadata": {},
     "output_type": "display_data"
    },
    {
     "name": "stdout",
     "output_type": "stream",
     "text": [
      "Top-1 Probability: 0.356\n",
      "Class probabilities: tensor([0.1501, 0.3341, 0.3562, 0.1596], device='cuda:0')\n"
     ]
    },
    {
     "data": {
      "image/png": "[encoded data removed]",
      "text/plain": [
       "<Figure size 640x480 with 1 Axes>"
      ]
     },
     "metadata": {},
     "output_type": "display_data"
    }
   ],
   "source": [
    "print('0/1 - High confidence, ~0.5 - Low confidence')\n",
    "print('='*50)\n",
    "visualize_model(model, num_images=8, show_fails=True, high_conf=True)"
   ]
  },
  {
   "cell_type": "markdown",
   "id": "be5f7d33-7df0-4207-ba84-8c6c400fcaf0",
   "metadata": {},
   "source": [
    "# Comparison"
   ]
  },
  {
   "cell_type": "code",
   "execution_count": 15,
   "id": "c4eaf2da-a08f-4292-b482-9be62f31008a",
   "metadata": {},
   "outputs": [
    {
     "name": "stdout",
     "output_type": "stream",
     "text": [
      "20.00%\n",
      "40.00%\n",
      "60.00%\n",
      "80.00%\n",
      "100.00%\n"
     ]
    }
   ],
   "source": [
    "#import warnings\n",
    "#warnings.filterwarnings(\"ignore\", category=UserWarning, message=\".*torch.load.*\")\n",
    "\n",
    "models_dir = './models/multiclass'\n",
    "results = []\n",
    "\n",
    "for ix, filename in enumerate(os.listdir(models_dir)):\n",
    "    model_path = os.path.join(models_dir, filename)\n",
    "    if filename.endswith(\".pth\"):\n",
    "        # Load the model\n",
    "        # First make sure the architecture matches\n",
    "        if 'ResNet18' in model_path:\n",
    "            model = models.resnet18(weights=ResNet18_Weights.DEFAULT)\n",
    "            num_features = model.fc.in_features\n",
    "        else:\n",
    "            model = models.resnet50(weights=ResNet50_Weights.DEFAULT)\n",
    "            num_features = model.fc.in_features\n",
    "    \n",
    "        model.fc = nn.Linear(num_features, 4)\n",
    "    \n",
    "        # Now we can load the same model\n",
    "        state_dict = torch.load(model_path, weights_only=True)\n",
    "        model.load_state_dict(state_dict) # Load the weights into the model\n",
    "        model.to(device)\n",
    "        model.eval()\n",
    "    \n",
    "        loss, accuracy, precision, recall, f1, conf_matrix = test(model, device, val_loader, criterion)\n",
    "    \n",
    "        tn, fp, fn, tp = conf_matrix \n",
    "        \n",
    "        results.append({\n",
    "            'model': filename,\n",
    "            'loss': round(loss,3),\n",
    "            'accuracy': round(accuracy,3),\n",
    "            'precision': round(precision,3),\n",
    "            'recall': round(recall,3),\n",
    "            'f1-score': round(f1,3),\n",
    "            'conf_matrix': conf_matrix\n",
    "        })\n",
    "    \n",
    "        print(f\"{(100. * ((ix+1) / len(os.listdir(models_dir)))):.2f}%\")\n",
    "\n",
    "\n",
    "results_df = pd.DataFrame(results)"
   ]
  },
  {
   "cell_type": "markdown",
   "id": "78dad1f9-8d04-4be4-ad1b-e841dc98a252",
   "metadata": {},
   "source": [
    "## Accuracy, Precision, Recall, F1-Score, ROC-AUC"
   ]
  },
  {
   "cell_type": "markdown",
   "id": "dc1d73d6-6887-4372-b2ad-be2fb253e9f4",
   "metadata": {},
   "source": [
    "- **Recall / True Positive Rate**\n",
    "    - $\\ \\frac{TP}{TP + FN}$\n",
    "    - Proportion of actual positives which were classified as positive\n",
    "- **False Positive Rate**\n",
    "    - $\\ \\frac{FP}{FP+TN} $\n",
    "    - Proportion of all actual negatives which were classified as positive\n",
    "- **Precision**\n",
    "    - $\\ \\frac{TP}{TP + FP}$\n",
    "    - Proportion of positive classification which were actually positive\n",
    "- **F1-Score**\n",
    "    - $\\ 2\\frac{Precision \\cdot Recall}{Precision + Recall} = \\frac{2TP}{2TP + FP + FN}$\n",
    "    - Harmonic mean of precision and recall\n",
    "- **ROC-AUC**\n",
    "    - Represents the probability that the model, given a random positive and negative sample, ranks the positive higher than the negative\n",
    " \n",
    "Note: Class 0 is negative. Class 1 is positive"
   ]
  },
  {
   "cell_type": "code",
   "execution_count": 16,
   "id": "298b63bd-aab0-4fd2-a18f-2000c671773a",
   "metadata": {},
   "outputs": [
    {
     "data": {
      "text/html": [
       "<div>\n",
       "<style scoped>\n",
       "    .dataframe tbody tr th:only-of-type {\n",
       "        vertical-align: middle;\n",
       "    }\n",
       "\n",
       "    .dataframe tbody tr th {\n",
       "        vertical-align: top;\n",
       "    }\n",
       "\n",
       "    .dataframe thead th {\n",
       "        text-align: right;\n",
       "    }\n",
       "</style>\n",
       "<table border=\"1\" class=\"dataframe\">\n",
       "  <thead>\n",
       "    <tr style=\"text-align: right;\">\n",
       "      <th></th>\n",
       "      <th>model</th>\n",
       "      <th>accuracy</th>\n",
       "      <th>precision</th>\n",
       "      <th>recall</th>\n",
       "      <th>f1-score</th>\n",
       "    </tr>\n",
       "  </thead>\n",
       "  <tbody>\n",
       "    <tr>\n",
       "      <th>2</th>\n",
       "      <td>ResNet18_GradualUnfreeze_2025-02-06_v1.pth</td>\n",
       "      <td>58.275</td>\n",
       "      <td>0.577</td>\n",
       "      <td>0.588</td>\n",
       "      <td>0.577</td>\n",
       "    </tr>\n",
       "    <tr>\n",
       "      <th>3</th>\n",
       "      <td>ResNet50_fc+layer4_2025-02-05_v1.pth</td>\n",
       "      <td>53.268</td>\n",
       "      <td>0.527</td>\n",
       "      <td>0.539</td>\n",
       "      <td>0.531</td>\n",
       "    </tr>\n",
       "    <tr>\n",
       "      <th>0</th>\n",
       "      <td>ResNet18_fc+layer4_2025-02-05_v1.pth</td>\n",
       "      <td>52.712</td>\n",
       "      <td>0.581</td>\n",
       "      <td>0.513</td>\n",
       "      <td>0.521</td>\n",
       "    </tr>\n",
       "    <tr>\n",
       "      <th>4</th>\n",
       "      <td>ResNet50_fc_2025-01-30_v1.pth</td>\n",
       "      <td>48.470</td>\n",
       "      <td>0.485</td>\n",
       "      <td>0.492</td>\n",
       "      <td>0.487</td>\n",
       "    </tr>\n",
       "    <tr>\n",
       "      <th>1</th>\n",
       "      <td>ResNet18_fc_2025-02-05_v1.pth</td>\n",
       "      <td>47.010</td>\n",
       "      <td>0.465</td>\n",
       "      <td>0.469</td>\n",
       "      <td>0.464</td>\n",
       "    </tr>\n",
       "  </tbody>\n",
       "</table>\n",
       "</div>"
      ],
      "text/plain": [
       "                                        model  accuracy  precision  recall  \\\n",
       "2  ResNet18_GradualUnfreeze_2025-02-06_v1.pth    58.275      0.577   0.588   \n",
       "3        ResNet50_fc+layer4_2025-02-05_v1.pth    53.268      0.527   0.539   \n",
       "0        ResNet18_fc+layer4_2025-02-05_v1.pth    52.712      0.581   0.513   \n",
       "4               ResNet50_fc_2025-01-30_v1.pth    48.470      0.485   0.492   \n",
       "1               ResNet18_fc_2025-02-05_v1.pth    47.010      0.465   0.469   \n",
       "\n",
       "   f1-score  \n",
       "2     0.577  \n",
       "3     0.531  \n",
       "0     0.521  \n",
       "4     0.487  \n",
       "1     0.464  "
      ]
     },
     "metadata": {},
     "output_type": "display_data"
    }
   ],
   "source": [
    "sorted_results = results_df.sort_values(by='f1-score', ascending=False).drop(index=[])\n",
    "# Show results, hiding confusion matrix values\n",
    "display(sorted_results.drop(columns=['loss', 'conf_matrix']))"
   ]
  },
  {
   "cell_type": "markdown",
   "id": "a3e3ffe5-9272-4e27-bac7-39f7abec7771",
   "metadata": {},
   "source": [
    "## Confusion Matrices"
   ]
  },
  {
   "cell_type": "code",
   "execution_count": 17,
   "id": "5ec9e863-72c4-4401-9378-07cb42ca91c5",
   "metadata": {},
   "outputs": [
    {
     "name": "stdout",
     "output_type": "stream",
     "text": [
      "\n",
      "ResNet18_GradualUnfreeze_2025-02-06_v1.pth:\n",
      "\n"
     ]
    },
    {
     "data": {
      "text/html": [
       "<div>\n",
       "<style scoped>\n",
       "    .dataframe tbody tr th:only-of-type {\n",
       "        vertical-align: middle;\n",
       "    }\n",
       "\n",
       "    .dataframe tbody tr th {\n",
       "        vertical-align: top;\n",
       "    }\n",
       "\n",
       "    .dataframe thead th {\n",
       "        text-align: right;\n",
       "    }\n",
       "</style>\n",
       "<table border=\"1\" class=\"dataframe\">\n",
       "  <thead>\n",
       "    <tr style=\"text-align: right;\">\n",
       "      <th></th>\n",
       "      <th>Pred 0</th>\n",
       "      <th>Pred 1</th>\n",
       "      <th>Pred 2</th>\n",
       "      <th>Pred 3</th>\n",
       "    </tr>\n",
       "  </thead>\n",
       "  <tbody>\n",
       "    <tr>\n",
       "      <th>Act 0</th>\n",
       "      <td>0.73</td>\n",
       "      <td>0.19</td>\n",
       "      <td>0.04</td>\n",
       "      <td>0.04</td>\n",
       "    </tr>\n",
       "    <tr>\n",
       "      <th>Act 1</th>\n",
       "      <td>0.23</td>\n",
       "      <td>0.57</td>\n",
       "      <td>0.15</td>\n",
       "      <td>0.05</td>\n",
       "    </tr>\n",
       "    <tr>\n",
       "      <th>Act 2</th>\n",
       "      <td>0.09</td>\n",
       "      <td>0.36</td>\n",
       "      <td>0.32</td>\n",
       "      <td>0.23</td>\n",
       "    </tr>\n",
       "    <tr>\n",
       "      <th>Act 3</th>\n",
       "      <td>0.05</td>\n",
       "      <td>0.09</td>\n",
       "      <td>0.13</td>\n",
       "      <td>0.73</td>\n",
       "    </tr>\n",
       "  </tbody>\n",
       "</table>\n",
       "</div>"
      ],
      "text/plain": [
       "       Pred 0  Pred 1  Pred 2  Pred 3\n",
       "Act 0    0.73    0.19    0.04    0.04\n",
       "Act 1    0.23    0.57    0.15    0.05\n",
       "Act 2    0.09    0.36    0.32    0.23\n",
       "Act 3    0.05    0.09    0.13    0.73"
      ]
     },
     "metadata": {},
     "output_type": "display_data"
    },
    {
     "name": "stdout",
     "output_type": "stream",
     "text": [
      "\n",
      "ResNet50_fc+layer4_2025-02-05_v1.pth:\n",
      "\n"
     ]
    },
    {
     "data": {
      "text/html": [
       "<div>\n",
       "<style scoped>\n",
       "    .dataframe tbody tr th:only-of-type {\n",
       "        vertical-align: middle;\n",
       "    }\n",
       "\n",
       "    .dataframe tbody tr th {\n",
       "        vertical-align: top;\n",
       "    }\n",
       "\n",
       "    .dataframe thead th {\n",
       "        text-align: right;\n",
       "    }\n",
       "</style>\n",
       "<table border=\"1\" class=\"dataframe\">\n",
       "  <thead>\n",
       "    <tr style=\"text-align: right;\">\n",
       "      <th></th>\n",
       "      <th>Pred 0</th>\n",
       "      <th>Pred 1</th>\n",
       "      <th>Pred 2</th>\n",
       "      <th>Pred 3</th>\n",
       "    </tr>\n",
       "  </thead>\n",
       "  <tbody>\n",
       "    <tr>\n",
       "      <th>Act 0</th>\n",
       "      <td>0.63</td>\n",
       "      <td>0.21</td>\n",
       "      <td>0.09</td>\n",
       "      <td>0.07</td>\n",
       "    </tr>\n",
       "    <tr>\n",
       "      <th>Act 1</th>\n",
       "      <td>0.24</td>\n",
       "      <td>0.47</td>\n",
       "      <td>0.21</td>\n",
       "      <td>0.09</td>\n",
       "    </tr>\n",
       "    <tr>\n",
       "      <th>Act 2</th>\n",
       "      <td>0.10</td>\n",
       "      <td>0.35</td>\n",
       "      <td>0.33</td>\n",
       "      <td>0.22</td>\n",
       "    </tr>\n",
       "    <tr>\n",
       "      <th>Act 3</th>\n",
       "      <td>0.05</td>\n",
       "      <td>0.09</td>\n",
       "      <td>0.13</td>\n",
       "      <td>0.73</td>\n",
       "    </tr>\n",
       "  </tbody>\n",
       "</table>\n",
       "</div>"
      ],
      "text/plain": [
       "       Pred 0  Pred 1  Pred 2  Pred 3\n",
       "Act 0    0.63    0.21    0.09    0.07\n",
       "Act 1    0.24    0.47    0.21    0.09\n",
       "Act 2    0.10    0.35    0.33    0.22\n",
       "Act 3    0.05    0.09    0.13    0.73"
      ]
     },
     "metadata": {},
     "output_type": "display_data"
    },
    {
     "name": "stdout",
     "output_type": "stream",
     "text": [
      "\n",
      "ResNet18_fc+layer4_2025-02-05_v1.pth:\n",
      "\n"
     ]
    },
    {
     "data": {
      "text/html": [
       "<div>\n",
       "<style scoped>\n",
       "    .dataframe tbody tr th:only-of-type {\n",
       "        vertical-align: middle;\n",
       "    }\n",
       "\n",
       "    .dataframe tbody tr th {\n",
       "        vertical-align: top;\n",
       "    }\n",
       "\n",
       "    .dataframe thead th {\n",
       "        text-align: right;\n",
       "    }\n",
       "</style>\n",
       "<table border=\"1\" class=\"dataframe\">\n",
       "  <thead>\n",
       "    <tr style=\"text-align: right;\">\n",
       "      <th></th>\n",
       "      <th>Pred 0</th>\n",
       "      <th>Pred 1</th>\n",
       "      <th>Pred 2</th>\n",
       "      <th>Pred 3</th>\n",
       "    </tr>\n",
       "  </thead>\n",
       "  <tbody>\n",
       "    <tr>\n",
       "      <th>Act 0</th>\n",
       "      <td>0.44</td>\n",
       "      <td>0.48</td>\n",
       "      <td>0.05</td>\n",
       "      <td>0.03</td>\n",
       "    </tr>\n",
       "    <tr>\n",
       "      <th>Act 1</th>\n",
       "      <td>0.07</td>\n",
       "      <td>0.76</td>\n",
       "      <td>0.13</td>\n",
       "      <td>0.04</td>\n",
       "    </tr>\n",
       "    <tr>\n",
       "      <th>Act 2</th>\n",
       "      <td>0.03</td>\n",
       "      <td>0.57</td>\n",
       "      <td>0.28</td>\n",
       "      <td>0.12</td>\n",
       "    </tr>\n",
       "    <tr>\n",
       "      <th>Act 3</th>\n",
       "      <td>0.02</td>\n",
       "      <td>0.19</td>\n",
       "      <td>0.22</td>\n",
       "      <td>0.57</td>\n",
       "    </tr>\n",
       "  </tbody>\n",
       "</table>\n",
       "</div>"
      ],
      "text/plain": [
       "       Pred 0  Pred 1  Pred 2  Pred 3\n",
       "Act 0    0.44    0.48    0.05    0.03\n",
       "Act 1    0.07    0.76    0.13    0.04\n",
       "Act 2    0.03    0.57    0.28    0.12\n",
       "Act 3    0.02    0.19    0.22    0.57"
      ]
     },
     "metadata": {},
     "output_type": "display_data"
    },
    {
     "name": "stdout",
     "output_type": "stream",
     "text": [
      "\n",
      "ResNet50_fc_2025-01-30_v1.pth:\n",
      "\n"
     ]
    },
    {
     "data": {
      "text/html": [
       "<div>\n",
       "<style scoped>\n",
       "    .dataframe tbody tr th:only-of-type {\n",
       "        vertical-align: middle;\n",
       "    }\n",
       "\n",
       "    .dataframe tbody tr th {\n",
       "        vertical-align: top;\n",
       "    }\n",
       "\n",
       "    .dataframe thead th {\n",
       "        text-align: right;\n",
       "    }\n",
       "</style>\n",
       "<table border=\"1\" class=\"dataframe\">\n",
       "  <thead>\n",
       "    <tr style=\"text-align: right;\">\n",
       "      <th></th>\n",
       "      <th>Pred 0</th>\n",
       "      <th>Pred 1</th>\n",
       "      <th>Pred 2</th>\n",
       "      <th>Pred 3</th>\n",
       "    </tr>\n",
       "  </thead>\n",
       "  <tbody>\n",
       "    <tr>\n",
       "      <th>Act 0</th>\n",
       "      <td>0.55</td>\n",
       "      <td>0.23</td>\n",
       "      <td>0.15</td>\n",
       "      <td>0.07</td>\n",
       "    </tr>\n",
       "    <tr>\n",
       "      <th>Act 1</th>\n",
       "      <td>0.26</td>\n",
       "      <td>0.40</td>\n",
       "      <td>0.24</td>\n",
       "      <td>0.10</td>\n",
       "    </tr>\n",
       "    <tr>\n",
       "      <th>Act 2</th>\n",
       "      <td>0.14</td>\n",
       "      <td>0.28</td>\n",
       "      <td>0.38</td>\n",
       "      <td>0.20</td>\n",
       "    </tr>\n",
       "    <tr>\n",
       "      <th>Act 3</th>\n",
       "      <td>0.09</td>\n",
       "      <td>0.10</td>\n",
       "      <td>0.18</td>\n",
       "      <td>0.63</td>\n",
       "    </tr>\n",
       "  </tbody>\n",
       "</table>\n",
       "</div>"
      ],
      "text/plain": [
       "       Pred 0  Pred 1  Pred 2  Pred 3\n",
       "Act 0    0.55    0.23    0.15    0.07\n",
       "Act 1    0.26    0.40    0.24    0.10\n",
       "Act 2    0.14    0.28    0.38    0.20\n",
       "Act 3    0.09    0.10    0.18    0.63"
      ]
     },
     "metadata": {},
     "output_type": "display_data"
    },
    {
     "name": "stdout",
     "output_type": "stream",
     "text": [
      "\n",
      "ResNet18_fc_2025-02-05_v1.pth:\n",
      "\n"
     ]
    },
    {
     "data": {
      "text/html": [
       "<div>\n",
       "<style scoped>\n",
       "    .dataframe tbody tr th:only-of-type {\n",
       "        vertical-align: middle;\n",
       "    }\n",
       "\n",
       "    .dataframe tbody tr th {\n",
       "        vertical-align: top;\n",
       "    }\n",
       "\n",
       "    .dataframe thead th {\n",
       "        text-align: right;\n",
       "    }\n",
       "</style>\n",
       "<table border=\"1\" class=\"dataframe\">\n",
       "  <thead>\n",
       "    <tr style=\"text-align: right;\">\n",
       "      <th></th>\n",
       "      <th>Pred 0</th>\n",
       "      <th>Pred 1</th>\n",
       "      <th>Pred 2</th>\n",
       "      <th>Pred 3</th>\n",
       "    </tr>\n",
       "  </thead>\n",
       "  <tbody>\n",
       "    <tr>\n",
       "      <th>Act 0</th>\n",
       "      <td>0.43</td>\n",
       "      <td>0.35</td>\n",
       "      <td>0.12</td>\n",
       "      <td>0.10</td>\n",
       "    </tr>\n",
       "    <tr>\n",
       "      <th>Act 1</th>\n",
       "      <td>0.18</td>\n",
       "      <td>0.49</td>\n",
       "      <td>0.18</td>\n",
       "      <td>0.15</td>\n",
       "    </tr>\n",
       "    <tr>\n",
       "      <th>Act 2</th>\n",
       "      <td>0.12</td>\n",
       "      <td>0.28</td>\n",
       "      <td>0.32</td>\n",
       "      <td>0.28</td>\n",
       "    </tr>\n",
       "    <tr>\n",
       "      <th>Act 3</th>\n",
       "      <td>0.09</td>\n",
       "      <td>0.12</td>\n",
       "      <td>0.16</td>\n",
       "      <td>0.64</td>\n",
       "    </tr>\n",
       "  </tbody>\n",
       "</table>\n",
       "</div>"
      ],
      "text/plain": [
       "       Pred 0  Pred 1  Pred 2  Pred 3\n",
       "Act 0    0.43    0.35    0.12    0.10\n",
       "Act 1    0.18    0.49    0.18    0.15\n",
       "Act 2    0.12    0.28    0.32    0.28\n",
       "Act 3    0.09    0.12    0.16    0.64"
      ]
     },
     "metadata": {},
     "output_type": "display_data"
    }
   ],
   "source": [
    "for index, row in sorted_results.iterrows():\n",
    "    # Normalise by total (show % of all predictions)\n",
    "    #conf_matrix_normalized = conf_matrix.astype('float') / conf_matrix.sum()\n",
    "    # Normalise by row\n",
    "    model_name = row['model']\n",
    "    conf_matrix = row['conf_matrix']\n",
    "    conf_matrix_normalized = conf_matrix.astype('float') / conf_matrix.sum(axis=1)[:, np.newaxis]\n",
    "    \n",
    "    conf_matrix_df = pd.DataFrame(\n",
    "        conf_matrix_normalized,\n",
    "        columns=[f'Pred {i}' for i in range(4)],\n",
    "        index=[f'Act {i}' for i in range(4)]\n",
    "    )\n",
    "    print(f\"\\n{model_name}:\\n\")\n",
    "    display(conf_matrix_df.round(2))"
   ]
  },
  {
   "cell_type": "code",
   "execution_count": null,
   "id": "441cb6c4-8b4d-4adc-a754-69b5f475827d",
   "metadata": {},
   "outputs": [],
   "source": []
  }
 ],
 "metadata": {
  "kernelspec": {
   "display_name": "Level 4 Project Env",
   "language": "python",
   "name": "l4project"
  },
  "language_info": {
   "codemirror_mode": {
    "name": "ipython",
    "version": 3
   },
   "file_extension": ".py",
   "mimetype": "text/x-python",
   "name": "python",
   "nbconvert_exporter": "python",
   "pygments_lexer": "ipython3",
   "version": "3.10.6"
  }
 },
 "nbformat": 4,
 "nbformat_minor": 5
}
